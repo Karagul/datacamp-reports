{
 "cells": [
  {
   "cell_type": "code",
   "execution_count": 1,
   "metadata": {},
   "outputs": [],
   "source": [
    "from pulp import *\n",
    "import pandas as pd"
   ]
  },
  {
   "cell_type": "markdown",
   "metadata": {},
   "source": [
    "# Basics of PuLP Modeling"
   ]
  },
  {
   "cell_type": "code",
   "execution_count": 2,
   "metadata": {},
   "outputs": [],
   "source": [
    "model = LpProblem(\"Maximum Bakery Profit\", LpMaximize)\n",
    "A = LpVariable('A', lowBound=0, cat='Integer')\n",
    "B = LpVariable('B', lowBound=0, cat='Integer')"
   ]
  },
  {
   "cell_type": "code",
   "execution_count": 3,
   "metadata": {},
   "outputs": [],
   "source": [
    "# Objective Function\n",
    "model += 20 * A + 40 * B"
   ]
  },
  {
   "cell_type": "code",
   "execution_count": 4,
   "metadata": {},
   "outputs": [],
   "source": [
    "# Subject to\n",
    "model += 0.5 * A + 1 * B <= 30\n",
    "model += 1 * A + 2.5 * B <= 60\n",
    "model += 1 * A + 2 * B <= 22"
   ]
  },
  {
   "cell_type": "code",
   "execution_count": 5,
   "metadata": {},
   "outputs": [
    {
     "data": {
      "text/plain": [
       "1"
      ]
     },
     "execution_count": 5,
     "metadata": {},
     "output_type": "execute_result"
    }
   ],
   "source": [
    "model.solve()"
   ]
  },
  {
   "cell_type": "code",
   "execution_count": 6,
   "metadata": {},
   "outputs": [
    {
     "name": "stdout",
     "output_type": "stream",
     "text": [
      "Produce 0.0 Cake A\n",
      "Produce 11.0 Cake B\n"
     ]
    }
   ],
   "source": [
    "print(\"Produce {} Cake A\".format(A.varValue))\n",
    "print(\"Produce {} Cake B\".format(B.varValue))"
   ]
  },
  {
   "cell_type": "markdown",
   "metadata": {},
   "source": [
    "# Example 1"
   ]
  },
  {
   "cell_type": "markdown",
   "metadata": {},
   "source": [
    "    Simple resource scheduling exercise\n",
    "       In this exercise you are planning the production at a glass manufacturer. This manufacturer only produces wine and beer glasses:\n",
    "\n",
    "    there is a maximum production capacity of 60 hours\n",
    "        each batch of wine and beer glasses takes 6 and 5 hours respectively\n",
    "    the warehouse has a maximum capacity of 150 rack spaces\n",
    "        each batch of the wine and beer glasses takes 10 and 20 spaces respectively\n",
    "    the production equipment can only make full batches, no partial batches\n",
    "    \n",
    "    Also, we only have orders for 6 batches of wine glasses. \n",
    "    Therefore, we do not want to produce more than this. \n",
    "    Each batch of the wine glasses earns a profit of $5 and the beer $4.5.\n",
    "\n",
    "    The objective is to maximize the profit for the manufacturer.\n",
    "\n",
    "    puLP has already been imported for you."
   ]
  },
  {
   "cell_type": "code",
   "execution_count": 7,
   "metadata": {},
   "outputs": [
    {
     "name": "stdout",
     "output_type": "stream",
     "text": [
      "Produce 6.0 batches of wine glasses\n",
      "Produce 4.0 batches of beer glasses\n"
     ]
    }
   ],
   "source": [
    "# Initialize Class\n",
    "model = LpProblem(\"Maximize Glass Co. Profits\", LpMaximize)\n",
    "\n",
    "# Define Decision Variables\n",
    "wine = LpVariable('Wine', lowBound=0, upBound=None, cat='Integer')\n",
    "beer = LpVariable('Beer', lowBound=0, upBound=None, cat='Integer')\n",
    "\n",
    "# Define Objective Function\n",
    "model += 5 * wine + 4.5 * beer\n",
    "\n",
    "# Define Constraints\n",
    "model += 6 * wine + 5 * beer <= 60\n",
    "model += 10 * wine + 20 * beer <= 150\n",
    "model += wine <= 6\n",
    "\n",
    "# Solve Model\n",
    "model.solve()\n",
    "print(\"Produce {} batches of wine glasses\".format(wine.varValue))\n",
    "print(\"Produce {} batches of beer glasses\".format(beer.varValue))"
   ]
  },
  {
   "cell_type": "markdown",
   "metadata": {},
   "source": [
    "# Using lpSum"
   ]
  },
  {
   "cell_type": "code",
   "execution_count": 8,
   "metadata": {},
   "outputs": [],
   "source": [
    "A = LpVariable('A', lowBound=0, cat='Integer')\n",
    "B = LpVariable('B', lowBound=0, cat='Integer')\n",
    "C = LpVariable('C', lowBound=0, cat='Integer')\n",
    "D = LpVariable('D', lowBound=0, cat='Integer')\n",
    "E = LpVariable('E', lowBound=0, cat='Integer')\n",
    "F = LpVariable('F', lowBound=0, cat='Integer')"
   ]
  },
  {
   "cell_type": "code",
   "execution_count": 9,
   "metadata": {},
   "outputs": [
    {
     "name": "stderr",
     "output_type": "stream",
     "text": [
      "C:\\Users\\hungu\\anaconda.x\\lib\\site-packages\\pulp\\pulp.py:1348: UserWarning: Overwriting previously set objective.\n",
      "  warnings.warn(\"Overwriting previously set objective.\")\n"
     ]
    }
   ],
   "source": [
    "var_list = [20*A, 40*B, 33*C, 14*D, 6*E, 60*F]\n",
    "model += lpSum(var_list)"
   ]
  },
  {
   "cell_type": "code",
   "execution_count": 10,
   "metadata": {},
   "outputs": [],
   "source": [
    "cake_types = [\"A\",\"B\",\"C\",\"D\",\"E\",\"F\"]\n",
    "profit_by_cake = {'A': 20,'B':40, 'C':33,'D':14,'E':6,'F':60}\n",
    "var_dict = {'A': A,'B':B, 'C':C,'D':D,'E':E,'F':F}\n",
    "\n",
    "model += lpSum([profit_by_cake[type] * var_dict[type] \n",
    "               for type in cake_types ])"
   ]
  },
  {
   "cell_type": "markdown",
   "metadata": {},
   "source": [
    "# Example "
   ]
  },
  {
   "cell_type": "markdown",
   "metadata": {},
   "source": [
    "    In this exercise you are making two types (premium and budget) of ice cream, using heavy cream, whole milk, and sugar. One version is a premium version containing more cream than your budget version. You are looking to find the mixture of ingredients that minimizes the total costs of ingredients.\n",
    "\n",
    "    Ingredient\t$/cup\n",
    "    Cream\t$1.5\n",
    "    Milk\t$0.125\n",
    "    Sugar\t$0.10\n",
    "    \n",
    "    Two Python lists called prod_type and ingredient have been created for you, along with a dictionary var_dict containing the decision variables of the model. You can explore them in the console."
   ]
  },
  {
   "cell_type": "code",
   "execution_count": 11,
   "metadata": {},
   "outputs": [],
   "source": [
    "# Define Objective Function\n",
    "cb = LpVariable('cb', lowBound=0, cat='Integer')\n",
    "mb = LpVariable('mb', lowBound=0, cat='Integer')\n",
    "sb = LpVariable('sb', lowBound=0, cat='Integer')\n",
    "cp = LpVariable('cp', lowBound=0, cat='Integer')\n",
    "mp = LpVariable('mp', lowBound=0, cat='Integer')\n",
    "sp = LpVariable('sp', lowBound=0, cat='Integer')\n",
    "\n",
    "var_dict = {('budget', 'cream'): cb,\n",
    " ('budget', 'milk'): mb,\n",
    " ('budget', 'sugar'): sb,\n",
    " ('premium', 'cream'): cp,\n",
    " ('premium', 'milk'): mp,\n",
    " ('premium', 'sugar'): sp}\n",
    "\n",
    "prod_type = ['premium','budget']\n",
    "ingredient = ['cream', 'milk', 'sugar']\n",
    "\n",
    "model += lpSum([1.5 * var_dict[(i, 'cream')] \n",
    "                + 0.125 * var_dict[(i, 'milk')] \n",
    "                + 0.10 * var_dict[(i, 'sugar')]\n",
    "                \n",
    "                # Iterate over product types\n",
    "                for i in prod_type])"
   ]
  },
  {
   "cell_type": "markdown",
   "metadata": {},
   "source": [
    "# Example"
   ]
  },
  {
   "cell_type": "markdown",
   "metadata": {},
   "source": [
    "    You are consulting for kitchen oven manufacturer helping to plan their logistics for next month. There are two warehouse locations (New York, and Atlanta), and four regional customer locations (East, South, Midwest, West). The expected demand next month for East it is 1,800, for South it is 1,200, for the Midwest it is 1,100, and for West it is 1000. The cost for shipping each of the warehouse locations to the regional customer's is listed in the table below. Your goal is to fulfill the regional demand at the lowest price.\n",
    "\n",
    "    Customer\tNew York\tAtlanta\n",
    "        East\t$211\t$232\n",
    "        South\t$232\t$212\n",
    "        Midwest\t$240\t$230\n",
    "        West\t$300\t$280\n",
    "       \n",
    "       Two Python dictionaries costs and var_dict have been created for you containing the costs and decision variables of the model. You can explore them in the console."
   ]
  },
  {
   "cell_type": "code",
   "execution_count": 12,
   "metadata": {},
   "outputs": [
    {
     "data": {
      "text/plain": [
       "Minimize Transportation Costs:\n",
       "MINIMIZE\n",
       "211*cb + 232*cb + 300*cp + 280*cp + 240*mb + 230*mb + 232*sb + 212*sb + 0\n",
       "SUBJECT TO\n",
       "_C1: cb + cb = 1800\n",
       "\n",
       "_C2: sb + sb = 1200\n",
       "\n",
       "_C3: mb + mb = 1100\n",
       "\n",
       "_C4: cp + cp = 1000\n",
       "\n",
       "VARIABLES\n",
       "0 <= cb Integer\n",
       "0 <= cb Integer\n",
       "0 <= cp Integer\n",
       "0 <= cp Integer\n",
       "0 <= mb Integer\n",
       "0 <= mb Integer\n",
       "0 <= sb Integer\n",
       "0 <= sb Integer"
      ]
     },
     "execution_count": 12,
     "metadata": {},
     "output_type": "execute_result"
    }
   ],
   "source": [
    "atle = LpVariable('cb', lowBound=0, cat='Integer')\n",
    "atlm = LpVariable('mb', lowBound=0, cat='Integer')\n",
    "atls = LpVariable('sb', lowBound=0, cat='Integer')\n",
    "atlw = LpVariable('cp', lowBound=0, cat='Integer')\n",
    "ne = LpVariable('cb', lowBound=0, cat='Integer')\n",
    "nm = LpVariable('mb', lowBound=0, cat='Integer')\n",
    "ns = LpVariable('sb', lowBound=0, cat='Integer')\n",
    "nw = LpVariable('cp', lowBound=0, cat='Integer')\n",
    "\n",
    "costs = {('Atlanta', 'East'): 232,\n",
    " ('Atlanta', 'Midwest'): 230,\n",
    " ('Atlanta', 'South'): 212,\n",
    " ('Atlanta', 'West'): 280,\n",
    " ('New York', 'East'): 211,\n",
    " ('New York', 'Midwest'): 240,\n",
    " ('New York', 'South'): 232,\n",
    " ('New York', 'West'): 300}\n",
    "\n",
    "var_dict = {('Atlanta', 'East'): atle,\n",
    " ('Atlanta', 'Midwest'): atlm,\n",
    " ('Atlanta', 'South'): atls,\n",
    " ('Atlanta', 'West'): atlw,\n",
    " ('New York', 'East'): ne,\n",
    " ('New York', 'Midwest'): nm,\n",
    " ('New York', 'South'): ns,\n",
    " ('New York', 'West'): nw}\n",
    "\n",
    "model = LpProblem(\"Minimize Transportation Costs\", LpMinimize)\n",
    "\n",
    "# Build the lists and the demand dictionary\n",
    "warehouse = ['New York', 'Atlanta']\n",
    "customers = ['East', 'South', 'Midwest', 'West']\n",
    "regional_demand = [1800, 1200, 1100, 1000]\n",
    "demand = dict(zip(customers, regional_demand))\n",
    "\n",
    "# Define Objective\n",
    "model += lpSum([costs[(w, c)] * var_dict[(w, c)] \n",
    "                for c in customers for w in warehouse])\n",
    "\n",
    "# For each customer, sum warehouse shipments and set equal to customer demand\n",
    "for c in customers:\n",
    "    model += lpSum([var_dict[(w, c)] for w in warehouse]) == demand[c]\n",
    "\n",
    "model"
   ]
  },
  {
   "cell_type": "markdown",
   "metadata": {},
   "source": [
    "# LpVariable Dicts"
   ]
  },
  {
   "cell_type": "code",
   "execution_count": 13,
   "metadata": {},
   "outputs": [
    {
     "data": {
      "text/plain": [
       "Minimize Transportation Costs:\n",
       "MINIMIZE\n",
       "211*cb + 232*cb + 300*cp + 280*cp + 240*mb + 230*mb + 232*sb + 212*sb + 0\n",
       "SUBJECT TO\n",
       "_C1: cb + cb = 1800\n",
       "\n",
       "_C2: sb + sb = 1200\n",
       "\n",
       "_C3: mb + mb = 1100\n",
       "\n",
       "_C4: cp + cp = 1000\n",
       "\n",
       "VARIABLES\n",
       "0 <= cb Integer\n",
       "0 <= cb Integer\n",
       "0 <= cp Integer\n",
       "0 <= cp Integer\n",
       "0 <= mb Integer\n",
       "0 <= mb Integer\n",
       "0 <= sb Integer\n",
       "0 <= sb Integer"
      ]
     },
     "execution_count": 13,
     "metadata": {},
     "output_type": "execute_result"
    }
   ],
   "source": [
    "warehouse = ['New York', 'Atlanta']\n",
    "customers = ['East', 'South', 'Midwest', 'West']\n",
    "\n",
    "transport = LpVariable.dicts(\"route\", [(w, c) for w in warehouse for c in customers],\n",
    "                            lowBound = 0, cat='Integer')\n",
    "\n",
    "model += lpSum([costs[(w, c)] * var_dict[(w, c)] \n",
    "                for c in customers for w in warehouse])\n",
    "model"
   ]
  },
  {
   "cell_type": "markdown",
   "metadata": {},
   "source": [
    "# Example"
   ]
  },
  {
   "cell_type": "markdown",
   "metadata": {},
   "source": [
    "    Logistics planning problem 2\n",
    "    You are again consulting for kitchen oven manufacturer helping to plan their logistics. This time you are attempting to put together a plan for the next six months (Jan.-Jun.). There are still two warehouse locations (New York, and Atlanta), and four regional customer locations (East, South, Midwest, West). The cost for shipping for each of the warehouse locations to the regional customer's is listed in the table below. Your goal is to determine the number of shipments from each warehouse to customers that provides the lowest costs.\n",
    "\n",
    "    Customer\tNew York\tAtlanta\n",
    "    East\t$211\t$232\n",
    "    South\t$232\t$212\n",
    "    Midwest\t$240\t$230\n",
    "    West\t$300\t$280\n",
    "\n",
    "    A Python dictionary named, costs containing the costs of the model, and three lists months, warehouse, and customers have been created for you. costs has been printed for you, you can explore the lists in the console as well. Additionally, the model has been initialized for you."
   ]
  },
  {
   "cell_type": "code",
   "execution_count": 14,
   "metadata": {},
   "outputs": [],
   "source": [
    "months = ['Jan', 'Feb', 'Mar', 'Apr', 'May', 'Jun']\n",
    "# Define decision variables\n",
    "key = [(m, w, c) for m in months for w in warehouse for c in customers]\n",
    "var_dict = LpVariable.dicts('num_of_shipments', \n",
    "                            key, \n",
    "                            lowBound=0, cat='Integer')\n",
    "\n",
    "# Use the LpVariable dictionary variable to define objective\n",
    "model += lpSum([costs[(w, c)] * var_dict[(m, w, c)] \n",
    "                for m in months for w in warehouse for c in customers])\n",
    "\n",
    "# Marvelous work! Using LpVariable.dicts() allowed you to \n",
    "# create 48 (6 months * 2 warehouses * 4 customers) \n",
    "# individual decision variables for the model in a few lines of code."
   ]
  },
  {
   "cell_type": "markdown",
   "metadata": {},
   "source": [
    "# Example (TSP)"
   ]
  },
  {
   "cell_type": "markdown",
   "metadata": {},
   "source": [
    "    The Traveling Salesman Problem (TSP) is a popular problem and has applications is logistics. In the TSP a salesman is given a list of cities, and the distance between each pair. He is looking for the shortest route going from the origin through all points before going back to the origin city again. This is a computationally difficult problem to solve but Miller-Tucker-Zemlin (MTZ) showed it can be completed using Integer Linear Programing. In this exercise you are going to define the objective and some constraints for of the TSP for a small dataset with 15 cities (see the image below). Your goal is to try out using LpVariable.dicts with list comprehension.\n",
    "    \n",
    "    Three Python variables n, cities, and dist have been created for you 1. The n variable is the number of cities, cities is a list of the cities numbered and dist is a pandas DataFrame with the pairwise distance between each city. You can explore them in the console. Additionally, the model has been initialized for you.\n",
    "\n",
    "    1 Dataset come from Gerhard Reinelt,TSPLIB - A Traveling Salesman Problem Library, ORSA Journal on Computing,"
   ]
  },
  {
   "cell_type": "markdown",
   "metadata": {},
   "source": [
    "    cities = range(0, 15)\n",
    "    n = 15\n",
    "\n",
    "\n",
    "\n",
    "    # Define Decision Variables\n",
    "    x = LpVariable.dicts('X', [(c1, c2) for c1 in cities for c2 in cities], \n",
    "                         cat='Binary')\n",
    "    u = LpVariable.dicts('U', [c1 for c1 in cities], \n",
    "                         lowBound=0, upBound=(n-1), cat='Integer')\n",
    "\n",
    "    # Define Objective\n",
    "    model += lpSum([dist.iloc[c1, c2] * x[(c1, c2)] \n",
    "                    for c1 in cities for c2 in cities])\n",
    "\n",
    "    # Define Constraints\n",
    "    for c2 in cities:\n",
    "        model += lpSum([x[(c1, c2)] for c1 in cities]) == 1\n",
    "    for c1 in cities:\n",
    "        model += lpSum([x[(c1, c2)] for c2 in cities]) == 1\n",
    "\n",
    "    #Great work! In this exercise you were able to use the combination\n",
    "    #of LpVariable.dicts(), lpSum(), and python's \n",
    "    #list comprehension to define over 200 variables. You used those \n",
    "    #variable to define the objective function and some constraints."
   ]
  },
  {
   "cell_type": "markdown",
   "metadata": {},
   "source": [
    "# Example"
   ]
  },
  {
   "cell_type": "code",
   "execution_count": 15,
   "metadata": {},
   "outputs": [
    {
     "data": {
      "text/plain": [
       "1"
      ]
     },
     "execution_count": 15,
     "metadata": {},
     "output_type": "execute_result"
    }
   ],
   "source": [
    "model = LpProblem(\"Minimize Staffing\", LpMinimize)\n",
    "\n",
    "days = list(range(7))\n",
    "\n",
    "x = LpVariable.dicts('staff', days, lowBound=0, cat='Integer')\n",
    "\n",
    "model += lpSum([x[i] for i in days])\n",
    "\n",
    "model += x[0] + x[3] + x[4] + x[5] + x[6] >= 11\n",
    "model += x[0] + x[1] + x[4] + x[5] + x[6] >= 14\n",
    "model += x[0] + x[1] + x[2] + x[3] + x[6] >= 23\n",
    "model += x[0] + x[1] + x[2] + x[3] + x[4] >= 21\n",
    "model += x[0] + x[1] + x[2] + x[3] + x[4] >= 20\n",
    "model += x[1] + x[2] + x[3] + x[4] + x[5] >= 15\n",
    "model += x[2] + x[3] + x[4] + x[5] + x[6] >= 8\n",
    "\n",
    "model.solve()"
   ]
  },
  {
   "cell_type": "markdown",
   "metadata": {},
   "source": [
    "# Example"
   ]
  },
  {
   "cell_type": "markdown",
   "metadata": {},
   "source": [
    "    Scheduling workers problem\n",
    "    You are looking to hire workers to work in a warehouse. Each worker is expected to work 5 consecutive days and then have two days off. The chart below has the estimated number of workers you will need each day. You are looking to hire the minimum number of workers to handle the workload for each day.\n",
    "\n",
    "    Expected Workload\n",
    "\n",
    "    Day of Week\tEmployees Needed\n",
    "    0 = Monday\t31\n",
    "    1 = Tuesday\t45\n",
    "    2 = Wednesday\t40\n",
    "    3 = Thursday\t40\n",
    "    4 = Friday\t48\n",
    "    5 = Saturday\t30\n",
    "    6 = Sunday\t25\n",
    "\n",
    "    The pulp module has been imported and the model has been initialized for you. Also, the variable days has been defined for you as a list of number from 0-6."
   ]
  },
  {
   "cell_type": "code",
   "execution_count": 16,
   "metadata": {},
   "outputs": [
    {
     "name": "stdout",
     "output_type": "stream",
     "text": [
      "Staff_0 reduce to 14.0\n",
      "Staff_1 reduce to 14.0\n",
      "Staff_2 reduce to 8.0\n",
      "Staff_3 reduce to 0.0\n",
      "Staff_4 reduce to 13.0\n",
      "Staff_5 reduce to 0.0\n",
      "Staff_6 reduce to 4.0\n"
     ]
    },
    {
     "data": {
      "text/plain": [
       "Minimize Staffing:\n",
       "MINIMIZE\n",
       "1*staff__0 + 1*staff__1 + 1*staff__2 + 1*staff__3 + 1*staff__4 + 1*staff__5 + 1*staff__6 + 0\n",
       "SUBJECT TO\n",
       "_C1: staff__0 + staff__3 + staff__4 + staff__5 + staff__6 >= 31\n",
       "\n",
       "_C2: staff__0 + staff__1 + staff__4 + staff__5 + staff__6 >= 45\n",
       "\n",
       "_C3: staff__0 + staff__1 + staff__2 + staff__5 + staff__6 >= 40\n",
       "\n",
       "_C4: staff__0 + staff__1 + staff__2 + staff__3 + staff__6 >= 40\n",
       "\n",
       "_C5: staff__0 + staff__1 + staff__2 + staff__3 + staff__4 >= 48\n",
       "\n",
       "_C6: staff__1 + staff__2 + staff__3 + staff__4 + staff__5 >= 30\n",
       "\n",
       "_C7: staff__2 + staff__3 + staff__4 + staff__5 + staff__6 >= 25\n",
       "\n",
       "VARIABLES\n",
       "0 <= staff__0 Integer\n",
       "0 <= staff__1 Integer\n",
       "0 <= staff__2 Integer\n",
       "0 <= staff__3 Integer\n",
       "0 <= staff__4 Integer\n",
       "0 <= staff__5 Integer\n",
       "0 <= staff__6 Integer"
      ]
     },
     "execution_count": 16,
     "metadata": {},
     "output_type": "execute_result"
    }
   ],
   "source": [
    "# The class has been initialize, and x, days, and objective function defined\n",
    "model = LpProblem(\"Minimize Staffing\", LpMinimize)\n",
    "days = list(range(7))\n",
    "x = LpVariable.dicts('staff_', days, lowBound=0, cat='Integer')\n",
    "model += lpSum([x[i] for i in days])\n",
    "\n",
    "# Define Constraints\n",
    "model += x[0] + x[3] + x[4] + x[5] + x[6] >= 31\n",
    "model += x[0] + x[1] + x[4] + x[5] + x[6] >= 45\n",
    "model += x[0] + x[1] + x[2] + x[5] + x[6] >= 40\n",
    "model += x[0] + x[1] + x[2] + x[3] + x[6] >= 40\n",
    "model += x[0] + x[1] + x[2] + x[3] + x[4] >= 48\n",
    "model += x[1] + x[2] + x[3] + x[4] + x[5] >= 30\n",
    "model += x[2] + x[3] + x[4] + x[5] + x[6] >= 25\n",
    "\n",
    "model.solve()\n",
    "\n",
    "for i in days:\n",
    "    print('Staff_{} reduce to {}'.format(i, x[i].varValue))\n",
    "model"
   ]
  },
  {
   "cell_type": "markdown",
   "metadata": {},
   "source": [
    "Awesome job! To complete this staffing exercise, you first needed to define your decision variables. The integer category was the right one to choose because we cannot have partial days. Next, you defined your objective function using lpSum() to count the total number of workers. Finally, to define the constraints, you correctly recognized the pattern - skipping the 2 days a worker would be off."
   ]
  },
  {
   "cell_type": "markdown",
   "metadata": {},
   "source": [
    "# Example"
   ]
  },
  {
   "cell_type": "markdown",
   "metadata": {},
   "source": [
    "    Preventative maintenance scheduling\n",
    "    At a quarry they use diamond saws to cut slabs of marble. For preventative maintenance the saws are only allowed to run for 4 consecutive hours, afterwards a 1 hour inspection is completed before they are allowed to go back into service. The quarry operates 10-hour shifts. At the end of the shift if the saw blades have not been used for 4 consecutive hours the remaining time will be used at the start of the next shift. The expected number of saw blades needed for each hour is listed below. Our goal is to determine the minimum number of saw blades are needed for the shift.\n",
    "\n",
    "    Expected Workload - (Note that the chart at hour 0)\n",
    "\n",
    "    Hour\tSaws Needed\n",
    "    0\t7\n",
    "    1\t7\n",
    "    2\t7\n",
    "    3\t6\n",
    "    4\t5\n",
    "    5\t6\n",
    "    6\t6\n",
    "    7\t7\n",
    "    8\t7\n",
    "    9\t6\n",
    "\n",
    "    The model has been initialized for you."
   ]
  },
  {
   "cell_type": "code",
   "execution_count": 17,
   "metadata": {},
   "outputs": [
    {
     "name": "stdout",
     "output_type": "stream",
     "text": [
      "0 status 3.0\n",
      "1 status 0.0\n",
      "2 status 2.0\n",
      "3 status 2.0\n",
      "4 status 2.0\n",
      "5 status 0.0\n",
      "6 status 0.0\n",
      "7 status 0.0\n",
      "8 status 0.0\n",
      "9 status 0.0\n"
     ]
    },
    {
     "data": {
      "text/plain": [
       "Minimize Staffing:\n",
       "MINIMIZE\n",
       "1*saws__0 + 1*saws__1 + 1*saws__2 + 1*saws__3 + 1*saws__4 + 1*saws__5 + 1*saws__6 + 1*saws__7 + 1*saws__8 + 1*saws__9 + 0\n",
       "SUBJECT TO\n",
       "_C1: saws__0 + saws__2 + saws__3 + saws__4 + saws__5 + saws__7 + saws__8\n",
       " + saws__9 >= 7\n",
       "\n",
       "_C2: saws__0 + saws__1 + saws__3 + saws__4 + saws__5 + saws__6 + saws__8\n",
       " + saws__9 >= 7\n",
       "\n",
       "_C3: saws__0 + saws__1 + saws__2 + saws__4 + saws__5 + saws__6 + saws__7\n",
       " + saws__9 >= 7\n",
       "\n",
       "_C4: saws__0 + saws__1 + saws__2 + saws__3 + saws__5 + saws__6 + saws__7\n",
       " + saws__8 >= 6\n",
       "\n",
       "_C5: saws__1 + saws__2 + saws__3 + saws__4 + saws__6 + saws__7 + saws__8\n",
       " + saws__9 >= 5\n",
       "\n",
       "_C6: saws__0 + saws__2 + saws__3 + saws__4 + saws__5 + saws__7 + saws__8\n",
       " + saws__9 >= 6\n",
       "\n",
       "_C7: saws__0 + saws__1 + saws__3 + saws__4 + saws__5 + saws__6 + saws__8\n",
       " + saws__9 >= 6\n",
       "\n",
       "_C8: saws__0 + saws__1 + saws__2 + saws__4 + saws__5 + saws__6 + saws__7\n",
       " + saws__9 >= 7\n",
       "\n",
       "_C9: saws__0 + saws__1 + saws__2 + saws__3 + saws__5 + saws__6 + saws__7\n",
       " + saws__8 >= 7\n",
       "\n",
       "_C10: saws__1 + saws__2 + saws__3 + saws__4 + saws__6 + saws__7 + saws__8\n",
       " + saws__9 >= 6\n",
       "\n",
       "VARIABLES\n",
       "0 <= saws__0 Integer\n",
       "0 <= saws__1 Integer\n",
       "0 <= saws__2 Integer\n",
       "0 <= saws__3 Integer\n",
       "0 <= saws__4 Integer\n",
       "0 <= saws__5 Integer\n",
       "0 <= saws__6 Integer\n",
       "0 <= saws__7 Integer\n",
       "0 <= saws__8 Integer\n",
       "0 <= saws__9 Integer"
      ]
     },
     "execution_count": 17,
     "metadata": {},
     "output_type": "execute_result"
    }
   ],
   "source": [
    "# The class has been initialize, and x, hours and objective fuction defined\n",
    "model = LpProblem(\"Minimize Staffing\", LpMinimize)\n",
    "hours = list(range(10))\n",
    "x = LpVariable.dicts('saws_', hours, lowBound=0, cat='Integer')\n",
    "model += lpSum([x[i] for i in hours])\n",
    "\n",
    "# Define Constraints\n",
    "model += x[0] + x[2] + x[3] + x[4] + x[5] + x[7] + x[8] + x[9] >= 7\n",
    "model += x[0] + x[1] + x[3] + x[4] + x[5] + x[6] + x[8] + x[9] >= 7\n",
    "model += x[0] + x[1] + x[2] + x[4] + x[5] + x[6] + x[7] + x[9] >= 7\n",
    "model += x[0] + x[1] + x[2] + x[3] + x[5] + x[6] + x[7] + x[8] >= 6\n",
    "model += x[1] + x[2] + x[3] + x[4] + x[6] + x[7] + x[8] + x[9] >= 5\n",
    "model += x[2] + x[3] + x[4] + x[5] + x[7] + x[8] + x[9] + x[0] >= 6\n",
    "model += x[3] + x[4] + x[5] + x[6] + x[8] + x[9] + x[0] + x[1] >= 6\n",
    "model += x[4] + x[5] + x[6] + x[7] + x[9] + x[0] + x[1] + x[2] >= 7\n",
    "model += x[5] + x[6] + x[7] + x[8] + x[0] + x[1] + x[2] + x[3] >= 7\n",
    "model += x[6] + x[7] + x[8] + x[9] + x[1] + x[2] + x[3] + x[4] >= 6\n",
    "\n",
    "model.solve()\n",
    "\n",
    "for i in hours:\n",
    "    print('{} status {}'.format(i, x[i].varValue))\n",
    "    \n",
    "model"
   ]
  },
  {
   "cell_type": "markdown",
   "metadata": {},
   "source": [
    "Amazing work! Early on you recongize that you needed to define your variables as the number of saw blades that begin their 4 hours of service. Additionally, you were able to use these variables in defining your objetive function using lpSum. Finally, you recongized the pattern used to define your constraints."
   ]
  },
  {
   "cell_type": "markdown",
   "metadata": {},
   "source": [
    "# Capacitated Plant Location"
   ]
  },
  {
   "cell_type": "code",
   "execution_count": 18,
   "metadata": {},
   "outputs": [],
   "source": [
    "d = {'Supply_Region':['USA', 'Germany', 'Japan', 'Brazil', 'India'], 'Dmd':[2719.6,84.1,1676.8,145.4,156.4]}\n",
    "v = {'Supply_Region':['USA', 'Germany', 'Japan', 'Brazil', 'India'],\n",
    "    'USA':[6,13,20,12,22],'Germany':[13,6,14,14,13],'Japan':[20,14,3,21,10], \n",
    "    'Brazil':[12,14,21,8,23], 'India':[17,13,9,21,8]}\n",
    "f = {'Supply_Region':['USA', 'Germany', 'Japan', 'Brazil', 'India'],\n",
    "    'Low_Cap':[6500,4980,6230,3230,2110], 'High_Cap':[9500,7270,9100,4730,3080]}\n",
    "p = {'Supply_Region':['USA', 'Germany', 'Japan', 'Brazil', 'India'],\n",
    "    'Low_Cap':[500,500,500,500,500], 'High_Cap':[1500,1500,1500,1500,1500]}\n",
    "\n",
    "demand = pd.DataFrame(data = d)\n",
    "demand = demand.set_index('Supply_Region')\n",
    "\n",
    "var_cost = pd.DataFrame(data = v)\n",
    "var_cost = var_cost.set_index('Supply_Region')\n",
    "\n",
    "fix_cost = pd.DataFrame(data = f)\n",
    "fix_cost = fix_cost.set_index('Supply_Region')\n",
    "\n",
    "cap = pd.DataFrame(data = p)\n",
    "cap = cap.set_index('Supply_Region')\n",
    "\n",
    "model = LpProblem(\"Capacitated Plant Location Method\", LpMinimize)\n",
    "\n",
    "loc = ['USA', 'Germany', 'Japan', 'Brazil', 'India']\n",
    "size = ['Low_Cap','High_Cap']\n",
    "\n",
    "x = LpVariable.dicts(\"production\",[(i,j) for i in loc for j in loc], lowBound=0, upBound=None, cat='Continous')\n",
    "\n",
    "y = LpVariable.dicts(\"plant\",[(i,s) for s in size for i in loc], cat='Binary')\n",
    "\n",
    "model += (lpSum([fix_cost.loc[i,s] * y[(i,s)]] for s in size for i in loc) + \n",
    "         lpSum([var_cost.loc[i,j] * x[(i,j)]] for i in loc for j in loc))"
   ]
  },
  {
   "cell_type": "code",
   "execution_count": 19,
   "metadata": {},
   "outputs": [
    {
     "name": "stdout",
     "output_type": "stream",
     "text": [
      "A status 0.0\n",
      "B status 0.0\n",
      "C status 1.0\n",
      "D status 1.0\n",
      "E status 0.0\n",
      "F status 1.0\n"
     ]
    },
    {
     "data": {
      "text/plain": [
       "Loading Truck Problem:\n",
       "MAXIMIZE\n",
       "77878*ship_A + 82713*ship_B + 82728*ship_C + 68423*ship_D + 84119*ship_E + 77765*ship_F + 0\n",
       "SUBJECT TO\n",
       "_C1: 12800 ship_A + 10900 ship_B + 11400 ship_C + 2100 ship_D + 11300 ship_E\n",
       " + 2300 ship_F <= 20000\n",
       "\n",
       "_C2: ship_D + ship_E <= 1\n",
       "\n",
       "VARIABLES\n",
       "0 <= ship_A <= 1 Integer\n",
       "0 <= ship_B <= 1 Integer\n",
       "0 <= ship_C <= 1 Integer\n",
       "0 <= ship_D <= 1 Integer\n",
       "0 <= ship_E <= 1 Integer\n",
       "0 <= ship_F <= 1 Integer"
      ]
     },
     "execution_count": 19,
     "metadata": {},
     "output_type": "execute_result"
    }
   ],
   "source": [
    "prod = ['A','B','C','D','E','F']\n",
    "weight = {'A':12800, 'B':10900, 'C':11400, 'D':2100, 'E':11300, 'F':2300}\n",
    "prof = {'A':77878, 'B':82713, 'C':82728, 'D':68423, 'E':84119, 'F':77765}\n",
    "\n",
    "model = LpProblem('Loading Truck Problem', LpMaximize)\n",
    "\n",
    "x = LpVariable.dicts('ship', prod, cat='Binary')\n",
    "\n",
    "model += lpSum([prof[i] * x[i] for i in prod])\n",
    "\n",
    "model += lpSum([weight[i] * x[i] for i in prod]) <= 20000\n",
    "\n",
    "model += x['E'] + x['D'] <= 1\n",
    "\n",
    "model.solve()\n",
    "\n",
    "for i in prod:\n",
    "    print(\"{} status {}\".format(i, x[i].varValue))\n",
    "    \n",
    "model"
   ]
  },
  {
   "cell_type": "code",
   "execution_count": 20,
   "metadata": {},
   "outputs": [
    {
     "name": "stdout",
     "output_type": "stream",
     "text": [
      "A status 0.0\n",
      "B status 1.0\n",
      "C status 0.0\n",
      "D status 1.0\n",
      "E status 0.0\n",
      "F status 1.0\n"
     ]
    },
    {
     "data": {
      "text/plain": [
       "Loading Truck Problem:\n",
       "MAXIMIZE\n",
       "77878*ship_A + 82713*ship_B + 82728*ship_C + 68423*ship_D + 84119*ship_E + 77765*ship_F + 0\n",
       "SUBJECT TO\n",
       "_C1: 12800 ship_A + 10900 ship_B + 11400 ship_C + 2100 ship_D + 11300 ship_E\n",
       " + 2300 ship_F <= 20000\n",
       "\n",
       "_C2: - ship_B + ship_D <= 0\n",
       "\n",
       "VARIABLES\n",
       "0 <= ship_A <= 1 Integer\n",
       "0 <= ship_B <= 1 Integer\n",
       "0 <= ship_C <= 1 Integer\n",
       "0 <= ship_D <= 1 Integer\n",
       "0 <= ship_E <= 1 Integer\n",
       "0 <= ship_F <= 1 Integer"
      ]
     },
     "execution_count": 20,
     "metadata": {},
     "output_type": "execute_result"
    }
   ],
   "source": [
    "prod = ['A','B','C','D','E','F']\n",
    "weight = {'A':12800, 'B':10900, 'C':11400, 'D':2100, 'E':11300, 'F':2300}\n",
    "prof = {'A':77878, 'B':82713, 'C':82728, 'D':68423, 'E':84119, 'F':77765}\n",
    "\n",
    "model = LpProblem('Loading Truck Problem', LpMaximize)\n",
    "\n",
    "x = LpVariable.dicts('ship', prod, cat='Binary')\n",
    "\n",
    "model += lpSum([prof[i] * x[i] for i in prod])\n",
    "\n",
    "model += lpSum([weight[i] * x[i] for i in prod]) <= 20000\n",
    "\n",
    "model += x['D'] <= x['B']\n",
    "\n",
    "model.solve()\n",
    "\n",
    "for i in prod:\n",
    "    print(\"{} status {}\".format(i, x[i].varValue))\n",
    "    \n",
    "model"
   ]
  },
  {
   "cell_type": "markdown",
   "metadata": {},
   "source": [
    "# Example"
   ]
  },
  {
   "cell_type": "markdown",
   "metadata": {},
   "source": [
    "    Logical constraint exercise\n",
    "    Your customer has ordered six products to be delivered over the next month. You will need to ship multiple truck loads to deliver all of the products. There is a weight limit on your trucks of 25,000 lbs. For cash flow reasons you desire to ship the most profitable combination of products that can fit on your truck.\n",
    "\n",
    "    Product\tWeight (lbs)\tProfitability (US)\n",
    "    \n",
    "    A\t12,583\t102,564\n",
    "    B\t9,204\t130,043\n",
    "    C\t12,611\t127,648\n",
    "    D\t12,131\t155,058\n",
    "    E\t12,889\t238,846\n",
    "    F\t11,529\t197,030\n",
    "    \n",
    "    Two Python dictionaries weight, and prof, and a list prod have been created for you containing the weight, profitability, and name of each product. You can explore them in the console."
   ]
  },
  {
   "cell_type": "code",
   "execution_count": 21,
   "metadata": {},
   "outputs": [
    {
     "name": "stdout",
     "output_type": "stream",
     "text": [
      "A status 0.0\n",
      "B status 1.0\n",
      "C status 0.0\n",
      "D status 0.0\n",
      "E status 1.0\n",
      "F status 0.0\n"
     ]
    }
   ],
   "source": [
    "prod = ['A', 'B', 'C', 'D', 'E', 'F']\n",
    "weight = {'A': 12583, 'B': 9204, 'C': 12611, 'D': 12131, 'E': 12889, 'F': 11529}\n",
    "prof = {'A': 102564, 'B': 130043, 'C': 127648, 'D': 155058, 'E': 238846, 'F': 197030}\n",
    "\n",
    "# Initialized model, defined decision variables and objective\n",
    "model = LpProblem(\"Loading Truck Problem\", LpMaximize)\n",
    "x = LpVariable.dicts('ship_', prod, cat='Binary')\n",
    "model += lpSum([prof[i] * x[i] for i in prod])\n",
    "\n",
    "# Define Constraint\n",
    "model += lpSum([weight[i] * x[i] for i in prod]) <= 25000\n",
    "model += x['D'] + x['E'] + x['F'] <= 1\n",
    "\n",
    "model.solve()\n",
    "for i in prod:\n",
    "    print(\"{} status {}\".format(i, x[i].varValue))"
   ]
  },
  {
   "cell_type": "markdown",
   "metadata": {},
   "source": [
    "Great job. Since we are limiting the sum of the binary variables to 1, for products D, E, and F, the only way to satisfy this condidion is by selecting only one product."
   ]
  },
  {
   "cell_type": "markdown",
   "metadata": {},
   "source": [
    "# Example"
   ]
  },
  {
   "cell_type": "markdown",
   "metadata": {},
   "source": [
    "    Logical constraints exercise 2\n",
    "    You work at a trucking distribution center and you need to decide which of 6 customer locations you will send a truck to. Your goal is to minimize the distance a truck travels.\n",
    "\n",
    "    Product\tDistance\n",
    "    A\t86\n",
    "    B\t95\n",
    "    C\t205\n",
    "    D\t229\n",
    "    E\t101\n",
    "    F\t209\n",
    "    \n",
    "    A dictionary dist, and a list cust have been created for you containing the distance, and name of each customer location. These inputs have been printed in console for you."
   ]
  },
  {
   "cell_type": "code",
   "execution_count": 22,
   "metadata": {},
   "outputs": [
    {
     "name": "stdout",
     "output_type": "stream",
     "text": [
      "A status 0.0\n",
      "B status 0.0\n",
      "C status 0.0\n",
      "D status 0.0\n",
      "E status 1.0\n",
      "F status 0.0\n"
     ]
    }
   ],
   "source": [
    "dist = {'A': 86, 'B': 95, 'C': 205, 'D': 229, 'E': 101, 'F': 209}\n",
    "cust = ['A', 'B', 'C', 'D', 'E', 'F']\n",
    "\n",
    "\n",
    "model = LpProblem(\"Loading Truck Problem\", LpMinimize)\n",
    "x = LpVariable.dicts('ship_', cust, cat='Binary')\n",
    "model += lpSum([dist[i]*x[i] for i in cust])\n",
    "\n",
    "# Define Constraint\n",
    "model += x['A'] + x['B'] + x['C'] + x['D'] + x['E'] + x['F'] >= 1\n",
    "model += x['A'] - x['D'] <= 0\n",
    "model += x['B'] - x['E'] <= 0\n",
    "\n",
    "model.solve()\n",
    "for i in cust:\n",
    "    print(\"{} status {}\".format(i, x[i].varValue))"
   ]
  },
  {
   "cell_type": "markdown",
   "metadata": {},
   "source": [
    "# Common Constraint Mistake"
   ]
  },
  {
   "cell_type": "code",
   "execution_count": 23,
   "metadata": {},
   "outputs": [
    {
     "data": {
      "text/plain": [
       "Aggregate Production Planning:\n",
       "MINIMIZE\n",
       "20*prod_('A',_0) + 17*prod_('A',_1) + 18*prod_('A',_2) + 15*prod_('B',_0) + 16*prod_('B',_1) + 15*prod_('B',_2) + 0\n",
       "SUBJECT TO\n",
       "_C1: prod_('A',_0) >= 0\n",
       "\n",
       "_C2: prod_('A',_1) >= 0\n",
       "\n",
       "_C3: prod_('A',_2) >= 0\n",
       "\n",
       "_C4: prod_('B',_0) >= 8\n",
       "\n",
       "_C5: prod_('B',_1) >= 7\n",
       "\n",
       "_C6: prod_('B',_2) >= 6\n",
       "\n",
       "_C7: - prod_('A',_0) + 3 prod_('B',_0) <= 0\n",
       "\n",
       "_C8: - prod_('A',_1) + 3 prod_('B',_1) <= 0\n",
       "\n",
       "_C9: - prod_('A',_2) + 3 prod_('B',_2) <= 0\n",
       "\n",
       "VARIABLES\n",
       "0 <= prod_('A',_0) Integer\n",
       "0 <= prod_('A',_1) Integer\n",
       "0 <= prod_('A',_2) Integer\n",
       "0 <= prod_('B',_0) Integer\n",
       "0 <= prod_('B',_1) Integer\n",
       "0 <= prod_('B',_2) Integer"
      ]
     },
     "execution_count": 23,
     "metadata": {},
     "output_type": "execute_result"
    }
   ],
   "source": [
    "demand = {'A':[0,0,0],'B':[8,7,6]}\n",
    "costs = {'A':[20,17,18],'B':[15,16,15]}\n",
    "\n",
    "model = LpProblem('Aggregate Production Planning', LpMinimize)\n",
    "\n",
    "time = [0,1,2]\n",
    "prod = ['A','B']\n",
    "\n",
    "X = LpVariable.dicts('prod',[(p,t) for p in prod for t in time], lowBound=0, cat='Integer')\n",
    "\n",
    "model += lpSum([costs[p][t] * X[(p, t)] for p in prod for t in time])\n",
    "\n",
    "for p in prod:\n",
    "    for t in time:\n",
    "        model += X[(p,t)] >= demand[p][t]\n",
    "        \n",
    "for t in time:\n",
    "    model += 3* X[('B', t)] <= X[('A', t)]\n",
    "model"
   ]
  },
  {
   "cell_type": "markdown",
   "metadata": {},
   "source": [
    "# Example"
   ]
  },
  {
   "cell_type": "markdown",
   "metadata": {},
   "source": [
    "    Dependent demand constraint exercise\n",
    "    You are developing a production plan for 5 products (A through E). One unit of product E comprises 2 units of A, and 1 unit of C. Product C is also sold directly to customers. Your planning horizon is 3 months. You are looking to determine how much of each product to produce by month that meets the customer's demand and minimizes the total costs.\n",
    "\n",
    "    A Pandas DataFrame named demand is printed in the console and contains the monthly customer demand for each product. Additionally, the code of the PuLP model to initialize, define decision variables, objective function, and constraint so production is greater than or equal to demand has been given to you."
   ]
  },
  {
   "cell_type": "code",
   "execution_count": 24,
   "metadata": {
    "scrolled": false
   },
   "outputs": [
    {
     "data": {
      "text/plain": [
       "Aggregate Production Planning:\n",
       "MINIMIZE\n",
       "17*prod_(0,_'A') + 19*prod_(0,_'B') + 16*prod_(0,_'C') + 8*prod_(0,_'D') + 9*prod_(0,_'E') + 16*prod_(1,_'A') + 19*prod_(1,_'B') + 15*prod_(1,_'C') + 7*prod_(1,_'D') + 8*prod_(1,_'E') + 17*prod_(2,_'A') + 19*prod_(2,_'B') + 16*prod_(2,_'C') + 8*prod_(2,_'D') + 9*prod_(2,_'E') + 0\n",
       "SUBJECT TO\n",
       "_C1: prod_(0,_'A') >= 0\n",
       "\n",
       "_C2: prod_(1,_'A') >= 0\n",
       "\n",
       "_C3: prod_(2,_'A') >= 0\n",
       "\n",
       "_C4: prod_(0,_'B') >= 1000\n",
       "\n",
       "_C5: prod_(1,_'B') >= 700\n",
       "\n",
       "_C6: prod_(2,_'B') >= 600\n",
       "\n",
       "_C7: prod_(0,_'C') >= 300\n",
       "\n",
       "_C8: prod_(1,_'C') >= 200\n",
       "\n",
       "_C9: prod_(2,_'C') >= 0\n",
       "\n",
       "_C10: prod_(0,_'D') >= 300\n",
       "\n",
       "_C11: prod_(1,_'D') >= 0\n",
       "\n",
       "_C12: prod_(2,_'D') >= 0\n",
       "\n",
       "_C13: prod_(0,_'E') >= 800\n",
       "\n",
       "_C14: prod_(1,_'E') >= 400\n",
       "\n",
       "_C15: prod_(2,_'E') >= 500\n",
       "\n",
       "_C16: - prod_(0,_'A') + 2 prod_(0,_'E') <= 0\n",
       "\n",
       "_C17: - prod_(0,_'C') + prod_(0,_'E') <= -300\n",
       "\n",
       "_C18: - prod_(1,_'A') + 2 prod_(1,_'E') <= 0\n",
       "\n",
       "_C19: - prod_(1,_'C') + prod_(1,_'E') <= -200\n",
       "\n",
       "_C20: - prod_(2,_'A') + 2 prod_(2,_'E') <= 0\n",
       "\n",
       "_C21: - prod_(2,_'C') + prod_(2,_'E') <= 0\n",
       "\n",
       "VARIABLES\n",
       "0 <= prod_(0,_'A') Integer\n",
       "0 <= prod_(0,_'B') Integer\n",
       "0 <= prod_(0,_'C') Integer\n",
       "0 <= prod_(0,_'D') Integer\n",
       "0 <= prod_(0,_'E') Integer\n",
       "0 <= prod_(1,_'A') Integer\n",
       "0 <= prod_(1,_'B') Integer\n",
       "0 <= prod_(1,_'C') Integer\n",
       "0 <= prod_(1,_'D') Integer\n",
       "0 <= prod_(1,_'E') Integer\n",
       "0 <= prod_(2,_'A') Integer\n",
       "0 <= prod_(2,_'B') Integer\n",
       "0 <= prod_(2,_'C') Integer\n",
       "0 <= prod_(2,_'D') Integer\n",
       "0 <= prod_(2,_'E') Integer"
      ]
     },
     "execution_count": 24,
     "metadata": {},
     "output_type": "execute_result"
    }
   ],
   "source": [
    "d = {'A':[0,0,0], 'B':[1000,700,600], 'C':[300,200,0], 'D':[300,0,0], 'E':[800,400,500]}\n",
    "c = {'A':[17,16,17], 'B':[19,19,19], 'C':[16,15,16], 'D':[8,7,8], 'E':[9,8,9]}\n",
    "\n",
    "demand = pd.DataFrame(data = d)\n",
    "costs = pd.DataFrame(data = c)\n",
    "\n",
    "# Initialize, Define Decision Vars., Objective Function, and Constraints\n",
    "model = LpProblem(\"Aggregate Production Planning\", LpMinimize)\n",
    "time = [0, 1, 2]\n",
    "prod = ['A', 'B', 'C', 'D', 'E']\n",
    "X = LpVariable.dicts(\"prod\", [(t, p) for p in prod for t in time], \n",
    "                     lowBound=0, cat=\"Integer\")\n",
    "model += lpSum([costs.loc[t, p]*X[(t, p)] for p in prod for t in time])\n",
    "for p in prod:\n",
    "    for t in time:\n",
    "        model += X[(t, p)] >= demand.loc[t, p]\n",
    "\n",
    "# Define Dependent Demand Constraints\n",
    "for t in time:\n",
    "    model += 2 * X[(t, 'E')] <= X[(t, 'A')]\n",
    "    model += 1 * X[(t, 'E')] + demand.loc[t, 'C'] <= X[(t, 'C')]\n",
    "model"
   ]
  },
  {
   "cell_type": "markdown",
   "metadata": {},
   "source": [
    "Superb work! You identified the correct variable and correctly created the dependent demand constraints."
   ]
  },
  {
   "cell_type": "markdown",
   "metadata": {},
   "source": [
    "# Example"
   ]
  },
  {
   "cell_type": "markdown",
   "metadata": {},
   "source": [
    "    Constraint combination exercise\n",
    "    You are working on a distribution plan for a warehouse network. The network has two warehouses (W1, and W2) and each can ship three different types of products (A, B, and C). W1 is small and can either ship 10 products A per a week or 15 products B per a week or 20 products C per a week. You are looking to minimize the total costs.\n",
    "\n",
    "    A Pandas DataFrame named demand is printed in the console and contains the monthly demand for each product. Additionally, the code of the PuLP model to initialize, define decision variables, objective function, and constraint so total shipment of each product equals its demand."
   ]
  },
  {
   "cell_type": "code",
   "execution_count": 25,
   "metadata": {},
   "outputs": [
    {
     "data": {
      "text/plain": [
       "Distribution Planning:\n",
       "MINIMIZE\n",
       "81*ship_('W1',_'A',_'C1') + 92*ship_('W1',_'A',_'C2') + 110*ship_('W1',_'A',_'C3') + 130*ship_('W1',_'A',_'C4') + 117*ship_('W1',_'B',_'C1') + 77*ship_('W1',_'B',_'C2') + 108*ship_('W1',_'B',_'C3') + 98*ship_('W1',_'B',_'C4') + 107*ship_('W1',_'C',_'C1') + 97*ship_('W1',_'C',_'C2') + 102*ship_('W1',_'C',_'C3') + 104*ship_('W1',_'C',_'C4') + 102*ship_('W2',_'A',_'C1') + 105*ship_('W2',_'A',_'C2') + 115*ship_('W2',_'A',_'C3') + 130*ship_('W2',_'A',_'C4') + 189*ship_('W2',_'B',_'C1') + 132*ship_('W2',_'B',_'C2') + 200*ship_('W2',_'B',_'C3') + 192*ship_('W2',_'B',_'C4') + 108*ship_('W2',_'C',_'C1') + 98*ship_('W2',_'C',_'C2') + 103*ship_('W2',_'C',_'C3') + 105*ship_('W2',_'C',_'C4') + 0\n",
       "SUBJECT TO\n",
       "_C1: ship_('W1',_'A',_'C1') + ship_('W2',_'A',_'C1') = 10\n",
       "\n",
       "_C2: ship_('W1',_'B',_'C1') + ship_('W2',_'B',_'C1') = 17\n",
       "\n",
       "_C3: ship_('W1',_'C',_'C1') + ship_('W2',_'C',_'C1') = 23\n",
       "\n",
       "_C4: ship_('W1',_'A',_'C2') + ship_('W2',_'A',_'C2') = 8\n",
       "\n",
       "_C5: ship_('W1',_'B',_'C2') + ship_('W2',_'B',_'C2') = 11\n",
       "\n",
       "_C6: ship_('W1',_'C',_'C2') + ship_('W2',_'C',_'C2') = 20\n",
       "\n",
       "_C7: ship_('W1',_'A',_'C3') + ship_('W2',_'A',_'C3') = 28\n",
       "\n",
       "_C8: ship_('W1',_'B',_'C3') + ship_('W2',_'B',_'C3') = 10\n",
       "\n",
       "_C9: ship_('W1',_'C',_'C3') + ship_('W2',_'C',_'C3') = 25\n",
       "\n",
       "_C10: ship_('W1',_'A',_'C4') + ship_('W2',_'A',_'C4') = 0\n",
       "\n",
       "_C11: ship_('W1',_'B',_'C4') + ship_('W2',_'B',_'C4') = 6\n",
       "\n",
       "_C12: ship_('W1',_'C',_'C4') + ship_('W2',_'C',_'C4') = 13\n",
       "\n",
       "_C13: 0.1 ship_('W1',_'A',_'C1') + 0.1 ship_('W1',_'A',_'C2')\n",
       " + 0.1 ship_('W1',_'A',_'C3') + 0.1 ship_('W1',_'A',_'C4')\n",
       " + 0.0666666666667 ship_('W1',_'B',_'C1')\n",
       " + 0.0666666666667 ship_('W1',_'B',_'C2')\n",
       " + 0.0666666666667 ship_('W1',_'B',_'C3')\n",
       " + 0.0666666666667 ship_('W1',_'B',_'C4') + 0.05 ship_('W1',_'C',_'C1')\n",
       " + 0.05 ship_('W1',_'C',_'C2') + 0.05 ship_('W1',_'C',_'C3')\n",
       " + 0.05 ship_('W1',_'C',_'C4') <= 4\n",
       "\n",
       "VARIABLES\n",
       "0 <= ship_('W1',_'A',_'C1') Integer\n",
       "0 <= ship_('W1',_'A',_'C2') Integer\n",
       "0 <= ship_('W1',_'A',_'C3') Integer\n",
       "0 <= ship_('W1',_'A',_'C4') Integer\n",
       "0 <= ship_('W1',_'B',_'C1') Integer\n",
       "0 <= ship_('W1',_'B',_'C2') Integer\n",
       "0 <= ship_('W1',_'B',_'C3') Integer\n",
       "0 <= ship_('W1',_'B',_'C4') Integer\n",
       "0 <= ship_('W1',_'C',_'C1') Integer\n",
       "0 <= ship_('W1',_'C',_'C2') Integer\n",
       "0 <= ship_('W1',_'C',_'C3') Integer\n",
       "0 <= ship_('W1',_'C',_'C4') Integer\n",
       "0 <= ship_('W2',_'A',_'C1') Integer\n",
       "0 <= ship_('W2',_'A',_'C2') Integer\n",
       "0 <= ship_('W2',_'A',_'C3') Integer\n",
       "0 <= ship_('W2',_'A',_'C4') Integer\n",
       "0 <= ship_('W2',_'B',_'C1') Integer\n",
       "0 <= ship_('W2',_'B',_'C2') Integer\n",
       "0 <= ship_('W2',_'B',_'C3') Integer\n",
       "0 <= ship_('W2',_'B',_'C4') Integer\n",
       "0 <= ship_('W2',_'C',_'C1') Integer\n",
       "0 <= ship_('W2',_'C',_'C2') Integer\n",
       "0 <= ship_('W2',_'C',_'C3') Integer\n",
       "0 <= ship_('W2',_'C',_'C4') Integer"
      ]
     },
     "execution_count": 25,
     "metadata": {},
     "output_type": "execute_result"
    }
   ],
   "source": [
    "d = {'C1':[10,17,23], 'C2':[8,11,20], 'C3':[28,10,25], 'C4':[0,6,13], 'Product':['A','B','C']}\n",
    "c = {'C1':[81,117,107,102,189,108], 'C2':[92,77,97,105,132,98], 'C3':[110,108,102,115,200,103], 'C4':[130,98,104,130,192,105],\n",
    "    'Product':['A','B','C','A','B','C'], 'WH':['W1','W1','W1','W2','W2','W2']}\n",
    "\n",
    "demand = pd.DataFrame(data = d)\n",
    "demand = demand.set_index('Product')\n",
    "\n",
    "costs = pd.DataFrame(data = c)\n",
    "costs = costs.set_index(['WH','Product'])\n",
    "\n",
    "# Initialize, Define Decision Vars., Objective Function, and Constraints\n",
    "model = LpProblem(\"Distribution Planning\", LpMinimize)\n",
    "wh = ['W1','W2']\n",
    "prod = ['A', 'B', 'C']\n",
    "cust = ['C1', 'C2', 'C3', 'C4']\n",
    "X = LpVariable.dicts(\"ship\", [(w, p, c) for c in cust for p in prod for w in wh], \n",
    "                     lowBound=0, cat=\"Integer\")\n",
    "model += lpSum([X[(w, p, c)]*costs.loc[(w, p), c]  for c in cust for p in prod for w in wh])\n",
    "for c in cust:\n",
    "    for p in prod:\n",
    "        model += lpSum([X[(w, p, c)] for w in wh]) == demand.loc[p, c]\n",
    "\n",
    "# Define Dependent Demand Constraints\n",
    "model += ((1/10) * lpSum([X[('W1', 'A', c)] for c in cust]) \n",
    "          + (1/15) * lpSum([X[('W1', 'B', c)] for c in cust])\n",
    "          + (1/20) * lpSum([X[('W1', 'C', c)] for c in cust])) <= 4\n",
    "\n",
    "model"
   ]
  },
  {
   "cell_type": "markdown",
   "metadata": {},
   "source": [
    "Great! You created the constraint that model the limits of W1. If the warehouse was limited by another product, you can continue to extend this constraint."
   ]
  },
  {
   "cell_type": "markdown",
   "metadata": {},
   "source": [
    "# Capacitated Plant P2"
   ]
  },
  {
   "cell_type": "code",
   "execution_count": 26,
   "metadata": {},
   "outputs": [],
   "source": [
    "d = {'Supply_Region':['USA', 'Germany', 'Japan', 'Brazil', 'India'], 'Dmd':[2719.6,84.1,1676.8,145.4,156.4]}\n",
    "v = {'Supply_Region':['USA', 'Germany', 'Japan', 'Brazil', 'India'],\n",
    "    'USA':[6,13,20,12,22],'Germany':[13,6,14,14,13],'Japan':[20,14,3,21,10], \n",
    "    'Brazil':[12,14,21,8,23], 'India':[17,13,9,21,8]}\n",
    "f = {'Supply_Region':['USA', 'Germany', 'Japan', 'Brazil', 'India'],\n",
    "    'Low_Cap':[6500,4980,6230,3230,2110], 'High_Cap':[9500,7270,9100,4730,3080]}\n",
    "p = {'Supply_Region':['USA', 'Germany', 'Japan', 'Brazil', 'India'],\n",
    "    'Low_Cap':[500,500,500,500,500], 'High_Cap':[1500,1500,1500,1500,1500]}\n",
    "\n",
    "demand = pd.DataFrame(data = d)\n",
    "demand = demand.set_index('Supply_Region')\n",
    "\n",
    "var_cost = pd.DataFrame(data = v)\n",
    "var_cost = var_cost.set_index('Supply_Region')\n",
    "\n",
    "fix_cost = pd.DataFrame(data = f)\n",
    "fix_cost = fix_cost.set_index('Supply_Region')\n",
    "\n",
    "cap = pd.DataFrame(data = p)\n",
    "cap = cap.set_index('Supply_Region')\n",
    "\n",
    "model = LpProblem(\"Capacitated Plant Location Method\", LpMinimize)\n",
    "\n",
    "loc = ['USA', 'Germany', 'Japan', 'Brazil', 'India']\n",
    "size = ['Low_Cap','High_Cap']\n",
    "\n",
    "x = LpVariable.dicts(\"production\",[(i,j) for i in loc for j in loc], lowBound=0, upBound=None, cat='Continous')\n",
    "\n",
    "y = LpVariable.dicts(\"plant\",[(i,s) for s in size for i in loc], cat='Binary')\n",
    "\n",
    "model += (lpSum([fix_cost.loc[i,s] * y[(i,s)]] for s in size for i in loc) + \n",
    "         lpSum([var_cost.loc[i,j] * x[(i,j)]] for i in loc for j in loc))\n",
    "\n",
    "# Constraint 1\n",
    "for j in loc:\n",
    "    model += lpSum([x[(i, j)] for i in loc]) == demand.loc[j,'Dmd']\n",
    "\n",
    "# Constraint 2\n",
    "for i in loc:\n",
    "    model += lpSum([x[(i, j)] for j in loc]) <= lpSum([cap.loc[i,s] * y[i,s] \n",
    "                                                       for s in size])"
   ]
  },
  {
   "cell_type": "markdown",
   "metadata": {},
   "source": [
    "# Example"
   ]
  },
  {
   "cell_type": "markdown",
   "metadata": {},
   "source": [
    "    Continue the case study of the Capacitated Plant Location model of a car manufacture. You are given four Pandas data frames demand, var_cost, fix_cost, and cap containing the regional demand (thous. of cars), variable production costs (thous. US), fixed production costs (thous. US), and production capacity (thous. of cars). Two python lists loc, and size have also been created, containing the different locations, and the two types of plant capacities. All these variables have been printed to the console for your viewing. The code to initialize the decision variables, define them and create the objective function has been completed for you."
   ]
  },
  {
   "cell_type": "code",
   "execution_count": 27,
   "metadata": {},
   "outputs": [
    {
     "name": "stdout",
     "output_type": "stream",
     "text": [
      "               Low_Cap  High_Cap\n",
      "Supply_Region                   \n",
      "USA               6500      9500\n",
      "Germany           4980      7270\n",
      "Japan             6230      9100\n",
      "Brazil            3230      4730\n",
      "India             2110      3080\n"
     ]
    },
    {
     "data": {
      "text/plain": [
       "Capacitated Plant Location Model:\n",
       "MINIMIZE\n",
       "4730*plant_('Brazil',_'High_Cap') + 3230*plant_('Brazil',_'Low_Cap') + 7270*plant_('Germany',_'High_Cap') + 4980*plant_('Germany',_'Low_Cap') + 3080*plant_('India',_'High_Cap') + 2110*plant_('India',_'Low_Cap') + 9100*plant_('Japan',_'High_Cap') + 6230*plant_('Japan',_'Low_Cap') + 9500*plant_('USA',_'High_Cap') + 6500*plant_('USA',_'Low_Cap') + 8*production_('Brazil',_'Brazil') + 14*production_('Brazil',_'Germany') + 21*production_('Brazil',_'India') + 21*production_('Brazil',_'Japan') + 12*production_('Brazil',_'USA') + 14*production_('Germany',_'Brazil') + 6*production_('Germany',_'Germany') + 13*production_('Germany',_'India') + 14*production_('Germany',_'Japan') + 13*production_('Germany',_'USA') + 23*production_('India',_'Brazil') + 13*production_('India',_'Germany') + 8*production_('India',_'India') + 10*production_('India',_'Japan') + 22*production_('India',_'USA') + 21*production_('Japan',_'Brazil') + 14*production_('Japan',_'Germany') + 9*production_('Japan',_'India') + 3*production_('Japan',_'Japan') + 20*production_('Japan',_'USA') + 12*production_('USA',_'Brazil') + 13*production_('USA',_'Germany') + 17*production_('USA',_'India') + 20*production_('USA',_'Japan') + 6*production_('USA',_'USA') + 0\n",
       "SUBJECT TO\n",
       "_C1: production_('Brazil',_'USA') + production_('Germany',_'USA')\n",
       " + production_('India',_'USA') + production_('Japan',_'USA')\n",
       " + production_('USA',_'USA') = 2719.6\n",
       "\n",
       "_C2: production_('Brazil',_'Germany') + production_('Germany',_'Germany')\n",
       " + production_('India',_'Germany') + production_('Japan',_'Germany')\n",
       " + production_('USA',_'Germany') = 84.1\n",
       "\n",
       "_C3: production_('Brazil',_'Japan') + production_('Germany',_'Japan')\n",
       " + production_('India',_'Japan') + production_('Japan',_'Japan')\n",
       " + production_('USA',_'Japan') = 1676.8\n",
       "\n",
       "_C4: production_('Brazil',_'Brazil') + production_('Germany',_'Brazil')\n",
       " + production_('India',_'Brazil') + production_('Japan',_'Brazil')\n",
       " + production_('USA',_'Brazil') = 145.4\n",
       "\n",
       "_C5: production_('Brazil',_'India') + production_('Germany',_'India')\n",
       " + production_('India',_'India') + production_('Japan',_'India')\n",
       " + production_('USA',_'India') = 156.4\n",
       "\n",
       "_C6: - 1500 plant_('USA',_'High_Cap') - 500 plant_('USA',_'Low_Cap')\n",
       " + production_('USA',_'Brazil') + production_('USA',_'Germany')\n",
       " + production_('USA',_'India') + production_('USA',_'Japan')\n",
       " + production_('USA',_'USA') <= 0\n",
       "\n",
       "_C7: - 1500 plant_('Germany',_'High_Cap') - 500 plant_('Germany',_'Low_Cap')\n",
       " + production_('Germany',_'Brazil') + production_('Germany',_'Germany')\n",
       " + production_('Germany',_'India') + production_('Germany',_'Japan')\n",
       " + production_('Germany',_'USA') <= 0\n",
       "\n",
       "_C8: - 1500 plant_('Japan',_'High_Cap') - 500 plant_('Japan',_'Low_Cap')\n",
       " + production_('Japan',_'Brazil') + production_('Japan',_'Germany')\n",
       " + production_('Japan',_'India') + production_('Japan',_'Japan')\n",
       " + production_('Japan',_'USA') <= 0\n",
       "\n",
       "_C9: - 1500 plant_('Brazil',_'High_Cap') - 500 plant_('Brazil',_'Low_Cap')\n",
       " + production_('Brazil',_'Brazil') + production_('Brazil',_'Germany')\n",
       " + production_('Brazil',_'India') + production_('Brazil',_'Japan')\n",
       " + production_('Brazil',_'USA') <= 0\n",
       "\n",
       "_C10: - 1500 plant_('India',_'High_Cap') - 500 plant_('India',_'Low_Cap')\n",
       " + production_('India',_'Brazil') + production_('India',_'Germany')\n",
       " + production_('India',_'India') + production_('India',_'Japan')\n",
       " + production_('India',_'USA') <= 0\n",
       "\n",
       "VARIABLES\n",
       "0 <= plant_('Brazil',_'High_Cap') <= 1 Integer\n",
       "0 <= plant_('Brazil',_'Low_Cap') <= 1 Integer\n",
       "0 <= plant_('Germany',_'High_Cap') <= 1 Integer\n",
       "0 <= plant_('Germany',_'Low_Cap') <= 1 Integer\n",
       "0 <= plant_('India',_'High_Cap') <= 1 Integer\n",
       "0 <= plant_('India',_'Low_Cap') <= 1 Integer\n",
       "0 <= plant_('Japan',_'High_Cap') <= 1 Integer\n",
       "0 <= plant_('Japan',_'Low_Cap') <= 1 Integer\n",
       "0 <= plant_('USA',_'High_Cap') <= 1 Integer\n",
       "0 <= plant_('USA',_'Low_Cap') <= 1 Integer\n",
       "production_('Brazil',_'Brazil') Continuous\n",
       "production_('Brazil',_'Germany') Continuous\n",
       "production_('Brazil',_'India') Continuous\n",
       "production_('Brazil',_'Japan') Continuous\n",
       "production_('Brazil',_'USA') Continuous\n",
       "production_('Germany',_'Brazil') Continuous\n",
       "production_('Germany',_'Germany') Continuous\n",
       "production_('Germany',_'India') Continuous\n",
       "production_('Germany',_'Japan') Continuous\n",
       "production_('Germany',_'USA') Continuous\n",
       "production_('India',_'Brazil') Continuous\n",
       "production_('India',_'Germany') Continuous\n",
       "production_('India',_'India') Continuous\n",
       "production_('India',_'Japan') Continuous\n",
       "production_('India',_'USA') Continuous\n",
       "production_('Japan',_'Brazil') Continuous\n",
       "production_('Japan',_'Germany') Continuous\n",
       "production_('Japan',_'India') Continuous\n",
       "production_('Japan',_'Japan') Continuous\n",
       "production_('Japan',_'USA') Continuous\n",
       "production_('USA',_'Brazil') Continuous\n",
       "production_('USA',_'Germany') Continuous\n",
       "production_('USA',_'India') Continuous\n",
       "production_('USA',_'Japan') Continuous\n",
       "production_('USA',_'USA') Continuous"
      ]
     },
     "execution_count": 27,
     "metadata": {},
     "output_type": "execute_result"
    }
   ],
   "source": [
    "d = {'Supply_Region':['USA', 'Germany', 'Japan', 'Brazil', 'India'], 'Dmd':[2719.6,84.1,1676.8,145.4,156.4]}\n",
    "v = {'Supply_Region':['USA', 'Germany', 'Japan', 'Brazil', 'India'],\n",
    "    'USA':[6,13,20,12,22],'Germany':[13,6,14,14,13],'Japan':[20,14,3,21,10], \n",
    "    'Brazil':[12,14,21,8,23], 'India':[17,13,9,21,8]}\n",
    "f = {'Supply_Region':['USA', 'Germany', 'Japan', 'Brazil', 'India'],\n",
    "    'Low_Cap':[6500,4980,6230,3230,2110], 'High_Cap':[9500,7270,9100,4730,3080]}\n",
    "p = {'Supply_Region':['USA', 'Germany', 'Japan', 'Brazil', 'India'],\n",
    "    'Low_Cap':[500,500,500,500,500], 'High_Cap':[1500,1500,1500,1500,1500]}\n",
    "\n",
    "demand = pd.DataFrame(data = d)\n",
    "demand = demand.set_index('Supply_Region')\n",
    "\n",
    "var_cost = pd.DataFrame(data = v)\n",
    "var_cost = var_cost.set_index('Supply_Region')\n",
    "\n",
    "fix_cost = pd.DataFrame(data = f)\n",
    "fix_cost = fix_cost.set_index('Supply_Region')\n",
    "\n",
    "cap = pd.DataFrame(data = p)\n",
    "cap = cap.set_index('Supply_Region')\n",
    "\n",
    "print(fix_cost)\n",
    "\n",
    "# Initialize, Define Decision Vars., and Objective Function\n",
    "model = LpProblem(\"Capacitated Plant Location Model\", LpMinimize)\n",
    "loc = ['USA', 'Germany', 'Japan', 'Brazil', 'India']\n",
    "size = ['Low_Cap','High_Cap']\n",
    "x = LpVariable.dicts(\"production\", [(i,j) for i in loc for j in loc],\n",
    "                     lowBound=0, upBound=None, cat='Continuous')\n",
    "y = LpVariable.dicts(\"plant\", \n",
    "                     [(i,s) for s in size for i in loc], cat='Binary')\n",
    "model += (lpSum([fix_cost.loc[i,s] * y[(i,s)] for s in size for i in loc])\n",
    "          + lpSum([var_cost.loc[i,j] * x[(i,j)] for i in loc for j in loc]))\n",
    "\n",
    "# Define the constraints\n",
    "for j in loc:\n",
    "    model += lpSum([x[(i, j)] for i in loc]) == demand.loc[j,'Dmd']\n",
    "for i in loc:\n",
    "    model += lpSum([x[(i, j)] for j in loc]) <= lpSum([cap.loc[i,s] * y[i,s] \n",
    "                                                       for s in size])\n",
    "    \n",
    "model"
   ]
  },
  {
   "cell_type": "markdown",
   "metadata": {},
   "source": [
    "Splendid! Defining the constraints can seem complex, but breaking it into smaller parts should make it more managable."
   ]
  },
  {
   "cell_type": "markdown",
   "metadata": {},
   "source": [
    "# Example"
   ]
  },
  {
   "cell_type": "markdown",
   "metadata": {
    "scrolled": true
   },
   "source": [
    "Add a logical constraint so that if the high capacity plant in USA is open, then a low capacity plant in Germany is also opened."
   ]
  },
  {
   "cell_type": "code",
   "execution_count": 28,
   "metadata": {
    "scrolled": false
   },
   "outputs": [
    {
     "name": "stdout",
     "output_type": "stream",
     "text": [
      "plant__('Brazil',_'High_Cap') = 0.63273333\n",
      "plant__('Brazil',_'Low_Cap') = 0.0\n",
      "plant__('Germany',_'High_Cap') = 0.0\n",
      "plant__('Germany',_'Low_Cap') = 1.0\n",
      "plant__('India',_'High_Cap') = 0.22213333\n",
      "plant__('India',_'Low_Cap') = 0.0\n",
      "plant__('Japan',_'High_Cap') = 1.0\n",
      "plant__('Japan',_'Low_Cap') = 0.0\n",
      "plant__('USA',_'High_Cap') = 1.0\n",
      "plant__('USA',_'Low_Cap') = 0.0\n",
      "production__('Brazil',_'Brazil') = 145.4\n",
      "production__('Brazil',_'Germany') = 0.0\n",
      "production__('Brazil',_'India') = 0.0\n",
      "production__('Brazil',_'Japan') = 0.0\n",
      "production__('Brazil',_'USA') = 803.7\n",
      "production__('Germany',_'Brazil') = 0.0\n",
      "production__('Germany',_'Germany') = 84.1\n",
      "production__('Germany',_'India') = 0.0\n",
      "production__('Germany',_'Japan') = 0.0\n",
      "production__('Germany',_'USA') = 415.9\n",
      "production__('India',_'Brazil') = 0.0\n",
      "production__('India',_'Germany') = 0.0\n",
      "production__('India',_'India') = 156.4\n",
      "production__('India',_'Japan') = 176.8\n",
      "production__('India',_'USA') = 0.0\n",
      "production__('Japan',_'Brazil') = 0.0\n",
      "production__('Japan',_'Germany') = 0.0\n",
      "production__('Japan',_'India') = 0.0\n",
      "production__('Japan',_'Japan') = 1500.0\n",
      "production__('Japan',_'USA') = 0.0\n",
      "production__('USA',_'Brazil') = 0.0\n",
      "production__('USA',_'Germany') = 0.0\n",
      "production__('USA',_'India') = 0.0\n",
      "production__('USA',_'Japan') = 0.0\n",
      "production__('USA',_'USA') = 1500.0\n"
     ]
    },
    {
     "data": {
      "text/plain": [
       "Capacitated Plant Location Model:\n",
       "MINIMIZE\n",
       "4730*plant__('Brazil',_'High_Cap') + 3230*plant__('Brazil',_'Low_Cap') + 7270*plant__('Germany',_'High_Cap') + 4980*plant__('Germany',_'Low_Cap') + 3080*plant__('India',_'High_Cap') + 2110*plant__('India',_'Low_Cap') + 9100*plant__('Japan',_'High_Cap') + 6230*plant__('Japan',_'Low_Cap') + 9500*plant__('USA',_'High_Cap') + 6500*plant__('USA',_'Low_Cap') + 8*production__('Brazil',_'Brazil') + 14*production__('Brazil',_'Germany') + 21*production__('Brazil',_'India') + 21*production__('Brazil',_'Japan') + 12*production__('Brazil',_'USA') + 14*production__('Germany',_'Brazil') + 6*production__('Germany',_'Germany') + 13*production__('Germany',_'India') + 14*production__('Germany',_'Japan') + 13*production__('Germany',_'USA') + 23*production__('India',_'Brazil') + 13*production__('India',_'Germany') + 8*production__('India',_'India') + 10*production__('India',_'Japan') + 22*production__('India',_'USA') + 21*production__('Japan',_'Brazil') + 14*production__('Japan',_'Germany') + 9*production__('Japan',_'India') + 3*production__('Japan',_'Japan') + 20*production__('Japan',_'USA') + 12*production__('USA',_'Brazil') + 13*production__('USA',_'Germany') + 17*production__('USA',_'India') + 20*production__('USA',_'Japan') + 6*production__('USA',_'USA') + 0\n",
       "SUBJECT TO\n",
       "_C1: production__('Brazil',_'USA') + production__('Germany',_'USA')\n",
       " + production__('India',_'USA') + production__('Japan',_'USA')\n",
       " + production__('USA',_'USA') = 2719.6\n",
       "\n",
       "_C2: production__('Brazil',_'Germany') + production__('Germany',_'Germany')\n",
       " + production__('India',_'Germany') + production__('Japan',_'Germany')\n",
       " + production__('USA',_'Germany') = 84.1\n",
       "\n",
       "_C3: production__('Brazil',_'Japan') + production__('Germany',_'Japan')\n",
       " + production__('India',_'Japan') + production__('Japan',_'Japan')\n",
       " + production__('USA',_'Japan') = 1676.8\n",
       "\n",
       "_C4: production__('Brazil',_'Brazil') + production__('Germany',_'Brazil')\n",
       " + production__('India',_'Brazil') + production__('Japan',_'Brazil')\n",
       " + production__('USA',_'Brazil') = 145.4\n",
       "\n",
       "_C5: production__('Brazil',_'India') + production__('Germany',_'India')\n",
       " + production__('India',_'India') + production__('Japan',_'India')\n",
       " + production__('USA',_'India') = 156.4\n",
       "\n",
       "_C6: - 1500 plant__('USA',_'High_Cap') - 500 plant__('USA',_'Low_Cap')\n",
       " + production__('USA',_'Brazil') + production__('USA',_'Germany')\n",
       " + production__('USA',_'India') + production__('USA',_'Japan')\n",
       " + production__('USA',_'USA') <= 0\n",
       "\n",
       "_C7: - 1500 plant__('Germany',_'High_Cap') - 500 plant__('Germany',_'Low_Cap')\n",
       " + production__('Germany',_'Brazil') + production__('Germany',_'Germany')\n",
       " + production__('Germany',_'India') + production__('Germany',_'Japan')\n",
       " + production__('Germany',_'USA') <= 0\n",
       "\n",
       "_C8: - 1500 plant__('Japan',_'High_Cap') - 500 plant__('Japan',_'Low_Cap')\n",
       " + production__('Japan',_'Brazil') + production__('Japan',_'Germany')\n",
       " + production__('Japan',_'India') + production__('Japan',_'Japan')\n",
       " + production__('Japan',_'USA') <= 0\n",
       "\n",
       "_C9: - 1500 plant__('Brazil',_'High_Cap') - 500 plant__('Brazil',_'Low_Cap')\n",
       " + production__('Brazil',_'Brazil') + production__('Brazil',_'Germany')\n",
       " + production__('Brazil',_'India') + production__('Brazil',_'Japan')\n",
       " + production__('Brazil',_'USA') <= 0\n",
       "\n",
       "_C10: - 1500 plant__('India',_'High_Cap') - 500 plant__('India',_'Low_Cap')\n",
       " + production__('India',_'Brazil') + production__('India',_'Germany')\n",
       " + production__('India',_'India') + production__('India',_'Japan')\n",
       " + production__('India',_'USA') <= 0\n",
       "\n",
       "_C11: - plant__('Germany',_'Low_Cap') + plant__('USA',_'High_Cap') <= 0\n",
       "\n",
       "VARIABLES\n",
       "0 <= plant__('Brazil',_'High_Cap') <= 1 Integer\n",
       "0 <= plant__('Brazil',_'Low_Cap') <= 1 Integer\n",
       "0 <= plant__('Germany',_'High_Cap') <= 1 Integer\n",
       "0 <= plant__('Germany',_'Low_Cap') <= 1 Integer\n",
       "0 <= plant__('India',_'High_Cap') <= 1 Integer\n",
       "0 <= plant__('India',_'Low_Cap') <= 1 Integer\n",
       "0 <= plant__('Japan',_'High_Cap') <= 1 Integer\n",
       "0 <= plant__('Japan',_'Low_Cap') <= 1 Integer\n",
       "0 <= plant__('USA',_'High_Cap') <= 1 Integer\n",
       "0 <= plant__('USA',_'Low_Cap') <= 1 Integer\n",
       "0 <= production__('Brazil',_'Brazil') Integer\n",
       "0 <= production__('Brazil',_'Germany') Integer\n",
       "0 <= production__('Brazil',_'India') Integer\n",
       "0 <= production__('Brazil',_'Japan') Integer\n",
       "0 <= production__('Brazil',_'USA') Integer\n",
       "0 <= production__('Germany',_'Brazil') Integer\n",
       "0 <= production__('Germany',_'Germany') Integer\n",
       "0 <= production__('Germany',_'India') Integer\n",
       "0 <= production__('Germany',_'Japan') Integer\n",
       "0 <= production__('Germany',_'USA') Integer\n",
       "0 <= production__('India',_'Brazil') Integer\n",
       "0 <= production__('India',_'Germany') Integer\n",
       "0 <= production__('India',_'India') Integer\n",
       "0 <= production__('India',_'Japan') Integer\n",
       "0 <= production__('India',_'USA') Integer\n",
       "0 <= production__('Japan',_'Brazil') Integer\n",
       "0 <= production__('Japan',_'Germany') Integer\n",
       "0 <= production__('Japan',_'India') Integer\n",
       "0 <= production__('Japan',_'Japan') Integer\n",
       "0 <= production__('Japan',_'USA') Integer\n",
       "0 <= production__('USA',_'Brazil') Integer\n",
       "0 <= production__('USA',_'Germany') Integer\n",
       "0 <= production__('USA',_'India') Integer\n",
       "0 <= production__('USA',_'Japan') Integer\n",
       "0 <= production__('USA',_'USA') Integer"
      ]
     },
     "execution_count": 28,
     "metadata": {},
     "output_type": "execute_result"
    }
   ],
   "source": [
    "# Initialize, Define Decision Vars., Object. Fun., and Constraints\n",
    "model = LpProblem(\"Capacitated Plant Location Model\", LpMinimize)\n",
    "loc = ['USA', 'Germany', 'Japan', 'Brazil', 'India']\n",
    "size = ['Low_Cap','High_Cap']\n",
    "x = LpVariable.dicts(\"production_\", [(i,j) for i in loc for j in loc],\n",
    "                     lowBound=0, upBound=None, cat='Integer')\n",
    "y = LpVariable.dicts(\"plant_\", \n",
    "                     [(i,s) for s in size for i in loc], cat='Binary')\n",
    "model += (lpSum([fix_cost.loc[i,s] * y[(i,s)] for s in size for i in loc])\n",
    "          + lpSum([var_cost.loc[i,j] * x[(i,j)] for i in loc for j in loc]))\n",
    "for j in loc:\n",
    "    model += lpSum([x[(i, j)] for i in loc]) == demand.loc[j,'Dmd']\n",
    "for i in loc:\n",
    "    model += lpSum([x[(i, j)] for j in loc]) <= lpSum([cap.loc[i,s]*y[(i,s)] \n",
    "                                                       for s in size])\n",
    "\n",
    "# Define logical constraint\n",
    "model += y[('USA','High_Cap')] - y[('Germany','Low_Cap')] <= 0\n",
    "\n",
    "model.solve()\n",
    "LpStatus[model.status]\n",
    "for v in model.variables():\n",
    "    print(v.name,\"=\",v.varValue)\n",
    "model"
   ]
  },
  {
   "cell_type": "markdown",
   "metadata": {},
   "source": [
    "Nice work! You were able to add to the constraints to adjust the model. Continue to feel free to adjust the model in pratice to best fit the specific case you are modeling."
   ]
  },
  {
   "cell_type": "markdown",
   "metadata": {},
   "source": [
    "# Solve the PuLP Model"
   ]
  },
  {
   "cell_type": "code",
   "execution_count": 29,
   "metadata": {},
   "outputs": [
    {
     "name": "stdout",
     "output_type": "stream",
     "text": [
      "Optimal\n",
      "s_('W1',_'A') = 1500.0\n",
      "s_('W1',_'B') = 0.0\n",
      "s_('W1',_'C') = 0.0\n",
      "s_('W2',_'A') = 0.0\n",
      "s_('W2',_'B') = 900.0\n",
      "s_('W2',_'C') = 800.0\n",
      "Objective =  757700.0\n"
     ]
    },
    {
     "data": {
      "text/html": [
       "<div>\n",
       "<style scoped>\n",
       "    .dataframe tbody tr th:only-of-type {\n",
       "        vertical-align: middle;\n",
       "    }\n",
       "\n",
       "    .dataframe tbody tr th {\n",
       "        vertical-align: top;\n",
       "    }\n",
       "\n",
       "    .dataframe thead th {\n",
       "        text-align: right;\n",
       "    }\n",
       "</style>\n",
       "<table border=\"1\" class=\"dataframe\">\n",
       "  <thead>\n",
       "    <tr style=\"text-align: right;\">\n",
       "      <th></th>\n",
       "      <th>A</th>\n",
       "      <th>B</th>\n",
       "      <th>C</th>\n",
       "    </tr>\n",
       "  </thead>\n",
       "  <tbody>\n",
       "    <tr>\n",
       "      <th>W1</th>\n",
       "      <td>1500.0</td>\n",
       "      <td>0.0</td>\n",
       "      <td>0.0</td>\n",
       "    </tr>\n",
       "    <tr>\n",
       "      <th>W2</th>\n",
       "      <td>0.0</td>\n",
       "      <td>900.0</td>\n",
       "      <td>800.0</td>\n",
       "    </tr>\n",
       "  </tbody>\n",
       "</table>\n",
       "</div>"
      ],
      "text/plain": [
       "         A      B      C\n",
       "W1  1500.0    0.0    0.0\n",
       "W2     0.0  900.0  800.0"
      ]
     },
     "execution_count": 29,
     "metadata": {},
     "output_type": "execute_result"
    }
   ],
   "source": [
    "model = LpProblem('Minimize Transportation Cost', LpMinimize)\n",
    "cust = ['A','B','C']\n",
    "warehouse = ['W1','W2']\n",
    "demand = {'A':1500,'B':900,'C':800}\n",
    "\n",
    "costs = {('W1','A'):232, ('W1','B'):255, ('W1','C'):264,\n",
    "       ('W2','A'):255, ('W2','B'):233, ('W2','C'):250}\n",
    "\n",
    "ship = LpVariable.dicts('s',[(w,c) for w in warehouse for c in cust], lowBound=0, cat='Integer')\n",
    "model += lpSum([costs[(w,c)] * ship[(w,c)] for w in warehouse for c in cust])\n",
    "\n",
    "for c in cust:\n",
    "    model += lpSum([ship[(w,c)] for w in warehouse]) == demand[c]\n",
    "    \n",
    "model.solve()\n",
    "print(LpStatus[model.status])\n",
    "\n",
    "for v in model.variables():\n",
    "    print(v.name,\"=\",v.varValue)\n",
    "    \n",
    "o = [{'A': ship[(w, 'A')].varValue,'B': ship[(w, 'B')].varValue,'C': ship[(w, 'C')].varValue} for w in warehouse]\n",
    "output = pd.DataFrame(data=o, index=warehouse)\n",
    "\n",
    "print(\"Objective = \", value(model.objective))\n",
    "\n",
    "output"
   ]
  },
  {
   "cell_type": "markdown",
   "metadata": {},
   "source": [
    "# Example"
   ]
  },
  {
   "cell_type": "code",
   "execution_count": 30,
   "metadata": {},
   "outputs": [
    {
     "name": "stdout",
     "output_type": "stream",
     "text": [
      "Status: Infeasible\n"
     ]
    }
   ],
   "source": [
    "# Initialize Class, Define Decision Vars., Objective Function, and Constraints\n",
    "model = LpProblem(\"Exercise Routine\", LpMaximize)\n",
    "P = LpVariable('Pushups', lowBound=0)\n",
    "R = LpVariable('Miles ran', lowBound=0)\n",
    "model += 3 * P + 10 * R\n",
    "model += P + R <= 10\n",
    "model += R >= 11\n",
    "\n",
    "# Solve Model\n",
    "model.solve()\n",
    "print(\"Status:\", LpStatus[model.status])"
   ]
  },
  {
   "cell_type": "markdown",
   "metadata": {},
   "source": [
    "# Example\n"
   ]
  },
  {
   "cell_type": "markdown",
   "metadata": {},
   "source": [
    "    Sanity checking exercise\n",
    "    \n",
    "    You are working on the production planning for a factory over the next 4 months. As inputs, you are given the starting inventory as 100 units, the fixed production costs of running the plant (US), the unit production costs (US), the costs for storing inventory (US), monthly production capacity, and the monthly demand.\n",
    "\n",
    "    All of our input variables are stored in a Pandas DataFrame named d and it's printed for you in the console. Your goal is to determine if he production line should be on or off, the amount of production, and amount of inventory to meet the monthly demand at the lowest costs."
   ]
  },
  {
   "cell_type": "markdown",
   "metadata": {},
   "source": [
    "    A PuLP model has been created for you to answer the problem. The model status, the value of the objective function, and the monthly production have been printed in the console. Use this info to determine if the decision variables and objective function are in their expected ranges. Find which statement is true."
   ]
  },
  {
   "cell_type": "markdown",
   "metadata": {},
   "source": [
    "    Input DataFrame d:\n",
    "            fixed  unit_prod  unit_inv  prod_cap  demand\n",
    "    period                                              \n",
    "    1       80000         20         5      1200     980\n",
    "    2       80000         24         5      1000     870\n",
    "    3       80000         30         5       900     850\n",
    "    4       80000         18         5       800     970\n",
    "\n",
    "    Model Satus: Optimal\n",
    "\n",
    "    Objective Function Value: 84200.0\n",
    "\n",
    "    Monthly Production:\n",
    "       Inventory  PlantOn    Prod\n",
    "    1      320.0      1.0  1200.0\n",
    "    2      450.0      1.0  1000.0\n",
    "    3      170.0      1.0   570.0\n",
    "    4        0.0      1.0   800.0\n"
   ]
  },
  {
   "cell_type": "markdown",
   "metadata": {},
   "source": [
    "# Sensitvity Shadow Price analysis"
   ]
  },
  {
   "cell_type": "code",
   "execution_count": 31,
   "metadata": {},
   "outputs": [
    {
     "name": "stdout",
     "output_type": "stream",
     "text": [
      "Optimal\n",
      "A = 6.6666667\n",
      "B = 4.0\n",
      "C = 0.0\n",
      "Objective (Max Profit) =  5133.333350000001\n",
      "  name  shadow_price     slack\n",
      "0  _C1     78.148148 -0.000000\n",
      "1  _C2      2.962963 -0.000000\n",
      "2  _C3     -0.000000  1.333333\n"
     ]
    }
   ],
   "source": [
    "# Initialize Class\n",
    "model = LpProblem(\"Maximize Glass Co. Profits\", LpMaximize)\n",
    "\n",
    "# Define Decision Variables\n",
    "A = LpVariable('A', lowBound=0)\n",
    "B = LpVariable('B', lowBound=0)\n",
    "C = LpVariable('C', lowBound=0)\n",
    "\n",
    "# Define Objective Function\n",
    "model += 500 * A + 450 * B + 600 * C\n",
    "\n",
    "# Define Constraints\n",
    "model += 6 * A + 5 * B + 8 * C <= 60\n",
    "model += 10.5 * A + 20 * B + 10 * C <= 150\n",
    "model += A <= 8\n",
    "\n",
    "# Solve Model\n",
    "model.solve()\n",
    "print(LpStatus[model.status])\n",
    "\n",
    "for v in model.variables():\n",
    "    print(v.name,\"=\",v.varValue)\n",
    "\n",
    "print(\"Objective (Max Profit) = \", value(model.objective))\n",
    "\n",
    "o = [{'name':name, 'shadow_price':c.pi,'slack':c.slack} for name,c in model.constraints.items()]\n",
    "print(pd.DataFrame(o))\n",
    "\n",
    "# _c1 determines that if we increae first constraints with 61 from 60 then it will increase the profit to $ 78\n",
    "# same for _c2 if we increase 150 to 151 then we will be having $2 profit in objective\n",
    "# if it is 0 then it infers that no changes can be made even if it is increases\n",
    "# slack = 0 then binding i.e. change in constraint will change the solution or objective fun\n",
    "# slack > 0 then no binding"
   ]
  },
  {
   "cell_type": "markdown",
   "metadata": {},
   "source": [
    "# Example"
   ]
  },
  {
   "cell_type": "markdown",
   "metadata": {},
   "source": [
    "    You are doing the resource planning for a lawn furniture company. They manufacture decorative sets of legs for lawn chairs, benches, and tables from metal tubes using a two step process involving tube-bending, and welding. The profit the company receives from the sale of each product is $3 for a set of chair legs, $3 for a set of bench legs, and $5 for a set of table legs. You are trying to plan the production mix for the upcoming season. Unfortunately, due to a strike there is only 2000 lbs tubing available for production on-hand.\n",
    "\n",
    "    The time and raw material requirements for each product are printed in the console. Also, the PuLP model has been completed for you and stored in the variable model. The constraints of the model are printed to the console"
   ]
  },
  {
   "cell_type": "markdown",
   "metadata": {},
   "source": [
    "    Lawn Funiture Planning:\n",
    "    MAXIMIZE\n",
    "    3*Bench_quantity + 3*Chair_quantity + 5*Table_quantity + 0\n",
    "    SUBJECT TO\n",
    "    _C1: 1.7 Bench_quantity + 1.2 Chair_quantity + 1.2 Table_quantity <= 1000\n",
    "\n",
    "    _C2: 0.8 Chair_quantity + 2.3 Table_quantity <= 1200\n",
    "\n",
    "    _C3: 3 Bench_quantity + 2 Chair_quantity + 4.5 Table_quantity <= 2000\n",
    "\n",
    "    VARIABLES\n",
    "    Bench_quantity Continuous\n",
    "    Chair_quantity Continuous\n",
    "    Table_quantity Continuous\n",
    "\n",
    "    <script.py> output:\n",
    "        Model Status: Optimal\n",
    "        Bench_quantity = 0.0\n",
    "        Chair_quantity = 700.0\n",
    "        Table_quantity = 133.33333\n",
    "        Objective =  2766.66665\n",
    "\n",
    "    Input Data:\n",
    "                          Aval. Capacity  Bench  Chair  Table\n",
    "    Resource                                                 \n",
    "    Tube bending (hours)            1000    1.7    1.2    1.2\n",
    "    Welding (hours)                 1200    0.0    0.8    2.3\n",
    "    Raw Material (lbs)              2000    3.0    2.0    4.5\n",
    "\n",
    "    Model Constraints\n",
    "    _C1: 1.7*Bench_quantity + 1.2*Chair_quantity + 1.2*Table_quantity <= 1000.0\n",
    "    _C2: 0.8*Chair_quantity + 2.3*Table_quantity <= 1200.0\n",
    "    _C3: 3.0*Bench_quantity + 2.0*Chair_quantity + 4.5*Table_quantity <= 2000.0\n",
    "    \n",
    "    name  shadow price      slack\n",
    "    0  _C1      1.166667   -0.00000\n",
    "    1  _C2     -0.000000  333.33333\n",
    "    2  _C3      0.800000   -0.00000"
   ]
  },
  {
   "cell_type": "markdown",
   "metadata": {},
   "source": [
    "    A local distributor has offered to sell the company more metal tubing at $0.60 / lb. Use the shadow prices and slack of the constraints, from Step 2, to select the best answer if this makes sense.\n",
    "    Yes, it makes sense because the shadow price is $0.80 which is more than the cost of the new tubing."
   ]
  },
  {
   "cell_type": "markdown",
   "metadata": {},
   "source": [
    "# Example"
   ]
  },
  {
   "cell_type": "markdown",
   "metadata": {},
   "source": [
    "    Shadow price and slack exercise pt1\n",
    "    You are planning what cupcakes a bakery should make. The bakery can make either:\n",
    "\n",
    "    regular size cupcake: profit = $5\n",
    "    a jumbo cupcake twice the regular size: profit = $10\n",
    "    There are 2 constraints on oven hours (30) and worker hours (65). This scenario has been modeled in PuLP for you and a solution found. The model status, decision variables values, objective value (i.e. profit), the shadow prices and slack of the constraints have been printed in the shell.\n",
    "\n",
    "    The sample script is a copy of that code. You will adjust the constraints to see how the optimal solution changes."
   ]
  },
  {
   "cell_type": "markdown",
   "metadata": {},
   "source": [
    "    Maximize Bakery Profits:\n",
    "    MAXIMIZE\n",
    "    10*Jumbo_production + 5*Regular_production + 0\n",
    "    SUBJECT TO\n",
    "    _C1: Jumbo_production + 0.5 Regular_production <= 30\n",
    "\n",
    "    _C2: 2.5 Jumbo_production + Regular_production <= 65\n",
    "\n",
    "    VARIABLES\n",
    "    Jumbo_production Continuous\n",
    "    Regular_production Continuous"
   ]
  },
  {
   "cell_type": "markdown",
   "metadata": {},
   "source": [
    "    ORIGINAL SOLUTION:\n",
    "    Model Status: Optimal\n",
    "    Jumbo_production = 0.0\n",
    "    Regular_production = 60.0\n",
    "    Objective = $ 300.0\n",
    "      name  shadow price  slack\n",
    "    0  _C1          10.0   -0.0\n",
    "    1  _C2          -0.0    5.0"
   ]
  },
  {
   "cell_type": "code",
   "execution_count": 32,
   "metadata": {},
   "outputs": [
    {
     "name": "stdout",
     "output_type": "stream",
     "text": [
      "Model Status: Optimal\n",
      "Jumbo_production = 0.0\n",
      "Regular_production = 60.0\n",
      "Objective = $ 300.0\n",
      "  name  shadow price  slack\n",
      "0  _C1          10.0   -0.0\n",
      "1  _C2          -0.0    5.0\n"
     ]
    }
   ],
   "source": [
    "# Define Constraints, Solve, Print Status, Variables, Objective\n",
    "model = LpProblem(\"Maximize Bakery Profits\", LpMaximize)\n",
    "R = LpVariable('Regular_production', lowBound=0, cat='Continuous')\n",
    "J = LpVariable('Jumbo_production', lowBound=0, cat='Continuous')\n",
    "model += 5 * R + 10 * J, \"Profit\"\n",
    "\n",
    "# Adjust the constraint\n",
    "model += 0.5 * R + 1 * J <= 30\n",
    "model += 1 * R + 2.5 * J <= 65\n",
    "\n",
    "# Solve Model, Print Status, Variables, Objective, Shadow and Slack\n",
    "model.solve()\n",
    "print(\"Model Status: {}\".format(pulp.LpStatus[model.status]))\n",
    "for v in model.variables():\n",
    "    print(v.name, \"=\", v.varValue)\n",
    "print(\"Objective = $\", value(model.objective))\n",
    "o = [{'name':name, 'shadow price':c.pi, 'slack': c.slack} \n",
    "     for name, c in model.constraints.items()]\n",
    "print(pd.DataFrame(o))\n",
    "\n",
    "# Increase the 1st constraint to 31. Run the code and see the change in the objective compared to the original solution.\n",
    "# Increase the 2nd constraint to 80. Run the code and see no change in the objective compared to the original solution.\n",
    "# Decrease the 2nd constraint to 60. Run the code and see no change in the objective compared to the original solution.\n",
    "# Decrease the 2nd constraint to 59. Run the code and see a change in the objective value, and the amount of production."
   ]
  },
  {
   "cell_type": "markdown",
   "metadata": {},
   "source": [
    "# Example"
   ]
  },
  {
   "cell_type": "markdown",
   "metadata": {},
   "source": [
    "         fixed_setup  unit_prod  unit_inv  prod_cap  demand\n",
    "    period                                                    \n",
    "    1             80000        240        50      1200     980\n",
    "    2             80000        220        50      1000     870\n",
    "    3             80000        100        50       900     850\n",
    "    4             80000        180        50       800     970\n",
    "\n",
    "\n",
    "    model = LpProblem(\"Production Planning\", LpMinimize)\n",
    "    time = [1, 2, 3, 4]\n",
    "    s = LpVariable.dicts(\"stock_in\", [0, 1, 2, 3, 4], lowBound=0, cat=\"Integer\")\n",
    "    x = LpVariable.dicts(\"prod_in\", time, lowBound=0, cat=\"Integer\")\n",
    "    y = LpVariable.dicts(\"plant_on_\", time, lowBound=0, cat=\"Binary\")\n",
    "    model += lpSum([d.loc[t,\"unit_prod\"]*x[t] + d.loc[t,\"unit_inv\"]*s[t] \n",
    "                    + d.loc[t,\"fixed_setup\"]*y[t] for t in time])\n",
    "    s[0] = 100\n",
    "    for t in time:\n",
    "        model += s[t-1] + x[t] == d.loc[t,\"demand\"] + s[t]\n",
    "        model += x[t] <= d.loc[t,\"prod_cap\"]*y[t]\n",
    "    model.solve()\n",
    "\n",
    "    # Print the Constraint Slack\n",
    "    o = [{'name':name, 'slack':c.slack} \n",
    "         for name, c in model.constraints.items()]\n",
    "    print(pd.DataFrame(o))"
   ]
  },
  {
   "cell_type": "markdown",
   "metadata": {},
   "source": [
    "# Capacitated plant location p3"
   ]
  },
  {
   "cell_type": "code",
   "execution_count": 33,
   "metadata": {
    "scrolled": false
   },
   "outputs": [
    {
     "name": "stdout",
     "output_type": "stream",
     "text": [
      "               Low_Cap  High_Cap\n",
      "Supply_Region                   \n",
      "USA               6500      9500\n",
      "Germany           4980      7270\n",
      "Japan             6230      9100\n",
      "Brazil            3230      4730\n",
      "India             2110      3080\n",
      "Optimal\n",
      "                  prod   quant\n",
      "0           USA to USA  1500.0\n",
      "1       USA to Germany     0.0\n",
      "2         USA to Japan     0.0\n",
      "3        USA to Brazil     0.0\n",
      "4         USA to India     0.0\n",
      "5       Germany to USA     0.0\n",
      "6   Germany to Germany     0.0\n",
      "7     Germany to Japan     0.0\n",
      "8    Germany to Brazil     0.0\n",
      "9     Germany to India     0.0\n",
      "10        Japan to USA     0.0\n",
      "11    Japan to Germany     0.0\n",
      "12      Japan to Japan  1500.0\n",
      "13     Japan to Brazil     0.0\n",
      "14      Japan to India     0.0\n",
      "15       Brazil to USA  1219.6\n",
      "16   Brazil to Germany     0.0\n",
      "17     Brazil to Japan     0.0\n",
      "18    Brazil to Brazil   145.4\n",
      "19     Brazil to India     0.0\n",
      "20        India to USA     0.0\n",
      "21    India to Germany    84.1\n",
      "22      India to Japan   176.8\n",
      "23     India to Brazil     0.0\n",
      "24      India to India   156.4\n",
      "    hc   lc      loc\n",
      "0  1.0  0.0      USA\n",
      "1  0.0  0.0  Germany\n",
      "2  1.0  0.0    Japan\n",
      "3  1.0  0.0   Brazil\n",
      "4  0.0  1.0    India\n",
      "Objective = $ 58850.899999999994\n",
      "   name  shadow_price  slack\n",
      "0   _C1          12.0   -0.0\n",
      "1   _C2          13.0   -0.0\n",
      "2   _C3          10.0   -0.0\n",
      "3   _C4           8.0   -0.0\n",
      "4   _C5           8.0   -0.0\n",
      "5   _C6          -6.0   -0.0\n",
      "6   _C7          -7.0   -0.0\n",
      "7   _C8          -7.0   -0.0\n",
      "8   _C9           0.0  135.0\n",
      "9  _C10           0.0   82.7\n"
     ]
    },
    {
     "data": {
      "text/plain": [
       "Capacitated Plant Location Model:\n",
       "MINIMIZE\n",
       "4730*plant_('Brazil',_'High_Cap') + 3230*plant_('Brazil',_'Low_Cap') + 7270*plant_('Germany',_'High_Cap') + 4980*plant_('Germany',_'Low_Cap') + 3080*plant_('India',_'High_Cap') + 2110*plant_('India',_'Low_Cap') + 9100*plant_('Japan',_'High_Cap') + 6230*plant_('Japan',_'Low_Cap') + 9500*plant_('USA',_'High_Cap') + 6500*plant_('USA',_'Low_Cap') + 8*production_('Brazil',_'Brazil') + 14*production_('Brazil',_'Germany') + 21*production_('Brazil',_'India') + 21*production_('Brazil',_'Japan') + 12*production_('Brazil',_'USA') + 14*production_('Germany',_'Brazil') + 6*production_('Germany',_'Germany') + 13*production_('Germany',_'India') + 14*production_('Germany',_'Japan') + 13*production_('Germany',_'USA') + 23*production_('India',_'Brazil') + 13*production_('India',_'Germany') + 8*production_('India',_'India') + 10*production_('India',_'Japan') + 22*production_('India',_'USA') + 21*production_('Japan',_'Brazil') + 14*production_('Japan',_'Germany') + 9*production_('Japan',_'India') + 3*production_('Japan',_'Japan') + 20*production_('Japan',_'USA') + 12*production_('USA',_'Brazil') + 13*production_('USA',_'Germany') + 17*production_('USA',_'India') + 20*production_('USA',_'Japan') + 6*production_('USA',_'USA') + 0\n",
       "SUBJECT TO\n",
       "_C1: production_('Brazil',_'USA') + production_('Germany',_'USA')\n",
       " + production_('India',_'USA') + production_('Japan',_'USA')\n",
       " + production_('USA',_'USA') = 2719.6\n",
       "\n",
       "_C2: production_('Brazil',_'Germany') + production_('Germany',_'Germany')\n",
       " + production_('India',_'Germany') + production_('Japan',_'Germany')\n",
       " + production_('USA',_'Germany') = 84.1\n",
       "\n",
       "_C3: production_('Brazil',_'Japan') + production_('Germany',_'Japan')\n",
       " + production_('India',_'Japan') + production_('Japan',_'Japan')\n",
       " + production_('USA',_'Japan') = 1676.8\n",
       "\n",
       "_C4: production_('Brazil',_'Brazil') + production_('Germany',_'Brazil')\n",
       " + production_('India',_'Brazil') + production_('Japan',_'Brazil')\n",
       " + production_('USA',_'Brazil') = 145.4\n",
       "\n",
       "_C5: production_('Brazil',_'India') + production_('Germany',_'India')\n",
       " + production_('India',_'India') + production_('Japan',_'India')\n",
       " + production_('USA',_'India') = 156.4\n",
       "\n",
       "_C6: - 1500 plant_('USA',_'High_Cap') - 500 plant_('USA',_'Low_Cap')\n",
       " + production_('USA',_'Brazil') + production_('USA',_'Germany')\n",
       " + production_('USA',_'India') + production_('USA',_'Japan')\n",
       " + production_('USA',_'USA') <= 0\n",
       "\n",
       "_C7: - 1500 plant_('Germany',_'High_Cap') - 500 plant_('Germany',_'Low_Cap')\n",
       " + production_('Germany',_'Brazil') + production_('Germany',_'Germany')\n",
       " + production_('Germany',_'India') + production_('Germany',_'Japan')\n",
       " + production_('Germany',_'USA') <= 0\n",
       "\n",
       "_C8: - 1500 plant_('Japan',_'High_Cap') - 500 plant_('Japan',_'Low_Cap')\n",
       " + production_('Japan',_'Brazil') + production_('Japan',_'Germany')\n",
       " + production_('Japan',_'India') + production_('Japan',_'Japan')\n",
       " + production_('Japan',_'USA') <= 0\n",
       "\n",
       "_C9: - 1500 plant_('Brazil',_'High_Cap') - 500 plant_('Brazil',_'Low_Cap')\n",
       " + production_('Brazil',_'Brazil') + production_('Brazil',_'Germany')\n",
       " + production_('Brazil',_'India') + production_('Brazil',_'Japan')\n",
       " + production_('Brazil',_'USA') <= 0\n",
       "\n",
       "_C10: - 1500 plant_('India',_'High_Cap') - 500 plant_('India',_'Low_Cap')\n",
       " + production_('India',_'Brazil') + production_('India',_'Germany')\n",
       " + production_('India',_'India') + production_('India',_'Japan')\n",
       " + production_('India',_'USA') <= 0\n",
       "\n",
       "VARIABLES\n",
       "0 <= plant_('Brazil',_'High_Cap') <= 1 Integer\n",
       "0 <= plant_('Brazil',_'Low_Cap') <= 1 Integer\n",
       "0 <= plant_('Germany',_'High_Cap') <= 1 Integer\n",
       "0 <= plant_('Germany',_'Low_Cap') <= 1 Integer\n",
       "0 <= plant_('India',_'High_Cap') <= 1 Integer\n",
       "0 <= plant_('India',_'Low_Cap') <= 1 Integer\n",
       "0 <= plant_('Japan',_'High_Cap') <= 1 Integer\n",
       "0 <= plant_('Japan',_'Low_Cap') <= 1 Integer\n",
       "0 <= plant_('USA',_'High_Cap') <= 1 Integer\n",
       "0 <= plant_('USA',_'Low_Cap') <= 1 Integer\n",
       "production_('Brazil',_'Brazil') Continuous\n",
       "production_('Brazil',_'Germany') Continuous\n",
       "production_('Brazil',_'India') Continuous\n",
       "production_('Brazil',_'Japan') Continuous\n",
       "production_('Brazil',_'USA') Continuous\n",
       "production_('Germany',_'Brazil') Continuous\n",
       "production_('Germany',_'Germany') Continuous\n",
       "production_('Germany',_'India') Continuous\n",
       "production_('Germany',_'Japan') Continuous\n",
       "production_('Germany',_'USA') Continuous\n",
       "production_('India',_'Brazil') Continuous\n",
       "production_('India',_'Germany') Continuous\n",
       "production_('India',_'India') Continuous\n",
       "production_('India',_'Japan') Continuous\n",
       "production_('India',_'USA') Continuous\n",
       "production_('Japan',_'Brazil') Continuous\n",
       "production_('Japan',_'Germany') Continuous\n",
       "production_('Japan',_'India') Continuous\n",
       "production_('Japan',_'Japan') Continuous\n",
       "production_('Japan',_'USA') Continuous\n",
       "production_('USA',_'Brazil') Continuous\n",
       "production_('USA',_'Germany') Continuous\n",
       "production_('USA',_'India') Continuous\n",
       "production_('USA',_'Japan') Continuous\n",
       "production_('USA',_'USA') Continuous"
      ]
     },
     "execution_count": 33,
     "metadata": {},
     "output_type": "execute_result"
    }
   ],
   "source": [
    "d = {'Supply_Region':['USA', 'Germany', 'Japan', 'Brazil', 'India'], 'Dmd':[2719.6,84.1,1676.8,145.4,156.4]}\n",
    "v = {'Supply_Region':['USA', 'Germany', 'Japan', 'Brazil', 'India'],\n",
    "    'USA':[6,13,20,12,22],'Germany':[13,6,14,14,13],'Japan':[20,14,3,21,10], \n",
    "    'Brazil':[12,14,21,8,23], 'India':[17,13,9,21,8]}\n",
    "f = {'Supply_Region':['USA', 'Germany', 'Japan', 'Brazil', 'India'],\n",
    "    'Low_Cap':[6500,4980,6230,3230,2110], 'High_Cap':[9500,7270,9100,4730,3080]}\n",
    "p = {'Supply_Region':['USA', 'Germany', 'Japan', 'Brazil', 'India'],\n",
    "    'Low_Cap':[500,500,500,500,500], 'High_Cap':[1500,1500,1500,1500,1500]}\n",
    "\n",
    "demand = pd.DataFrame(data = d)\n",
    "demand = demand.set_index('Supply_Region')\n",
    "\n",
    "var_cost = pd.DataFrame(data = v)\n",
    "var_cost = var_cost.set_index('Supply_Region')\n",
    "\n",
    "fix_cost = pd.DataFrame(data = f)\n",
    "fix_cost = fix_cost.set_index('Supply_Region')\n",
    "\n",
    "cap = pd.DataFrame(data = p)\n",
    "cap = cap.set_index('Supply_Region')\n",
    "\n",
    "print(fix_cost)\n",
    "\n",
    "# Initialize, Define Decision Vars., and Objective Function\n",
    "model = LpProblem(\"Capacitated Plant Location Model\", LpMinimize)\n",
    "loc = ['USA', 'Germany', 'Japan', 'Brazil', 'India']\n",
    "size = ['Low_Cap','High_Cap']\n",
    "x = LpVariable.dicts(\"production\", [(i,j) for i in loc for j in loc],\n",
    "                     lowBound=0, upBound=None, cat='Continuous')\n",
    "y = LpVariable.dicts(\"plant\", \n",
    "                     [(i,s) for s in size for i in loc], cat='Binary')\n",
    "model += (lpSum([fix_cost.loc[i,s] * y[(i,s)] for s in size for i in loc])\n",
    "          + lpSum([var_cost.loc[i,j] * x[(i,j)] for i in loc for j in loc]))\n",
    "\n",
    "# Define the constraints\n",
    "for j in loc:\n",
    "    model += lpSum([x[(i, j)] for i in loc]) == demand.loc[j,'Dmd']\n",
    "for i in loc:\n",
    "    model += lpSum([x[(i, j)] for j in loc]) <= lpSum([cap.loc[i,s] * y[i,s] \n",
    "                                                       for s in size])\n",
    "    \n",
    "model.solve()\n",
    "print(LpStatus[model.status])\n",
    "o = [{'prod':'{} to {}'.format(i,j),'quant':x[(i,j)].varValue} for i in loc for j in loc]\n",
    "print(pd.DataFrame(o))\n",
    "\n",
    "o = [{'loc':i, 'lc':y[(i,size[0])].varValue, 'hc':y[(i,size[1])].varValue} for i in loc]\n",
    "print(pd.DataFrame(o))\n",
    "\n",
    "print(\"Objective = $\", value(model.objective))\n",
    "\n",
    "o = [{'name':name, 'shadow_price':c.pi, 'slack':c.slack} for name, c in model.constraints.items()]\n",
    "print(pd.DataFrame(o))\n",
    "\n",
    "model"
   ]
  },
  {
   "cell_type": "markdown",
   "metadata": {},
   "source": [
    "# Example"
   ]
  },
  {
   "cell_type": "markdown",
   "metadata": {},
   "source": [
    "    Sensitivity case study exercise\n",
    "    Continue the case study of the Capacitated Plant Location model of a car manufacture. The model has been solved for you, and the shadow prices and the slack values of the constraints printed to the console. Note that the model input costs are in (thous. $US), and production demand and capacity are in (thous. of cars). Review the console and select the true statement."
   ]
  },
  {
   "cell_type": "markdown",
   "metadata": {},
   "source": [
    "    An increase in the total demand of 1 thous. cars in the USA region will decrease the overall cost by by $12 thous.\n",
    "    \n",
    "    # Increasing the production capacity of the plant of Japan by 1 thous. cars will decrease the overall cost by $7 thous.\n",
    "    # Germany, Brazil, and India have excess production capacity.\n",
    "    # An increase in the total demand of 1 thous. cars in the USA region will decrease the overall cost by by $12 thous.\n",
    "excess is refer from slack"
   ]
  },
  {
   "cell_type": "markdown",
   "metadata": {},
   "source": [
    "# Simulation testing"
   ]
  },
  {
   "cell_type": "markdown",
   "metadata": {},
   "source": [
    "#to run monte carlo simulation\n",
    "#Adding noise to the model using normal distribution (normalvariate(mean, std dev))"
   ]
  },
  {
   "cell_type": "code",
   "execution_count": 34,
   "metadata": {},
   "outputs": [
    {
     "name": "stdout",
     "output_type": "stream",
     "text": [
      "6.666667    79\n",
      "8.000000    11\n",
      "0.000000    10\n",
      "Name: A, dtype: int64\n",
      "4.000000    79\n",
      "5.454546    10\n",
      "2.400000    10\n",
      "0.000000     1\n",
      "Name: B, dtype: int64\n",
      "0.000000    89\n",
      "4.090909    10\n",
      "1.500000     1\n",
      "Name: C, dtype: int64\n"
     ]
    }
   ],
   "source": [
    "# Initialize Class\n",
    "from random import normalvariate\n",
    "# Step 1\n",
    "def run_pulp_model():\n",
    "    model = LpProblem(\"Maximize Glass Co. Profits\", LpMaximize)\n",
    "\n",
    "    # Define Decision Variables\n",
    "    A = LpVariable('A', lowBound=0)\n",
    "    B = LpVariable('B', lowBound=0)\n",
    "    C = LpVariable('C', lowBound=0)\n",
    "\n",
    "    # Step 2\n",
    "    a, b, c = normalvariate(0, 25),normalvariate(0, 25),normalvariate(0, 25)\n",
    "\n",
    "    # Define Objective Function\n",
    "    model += (500+a) * A + (450+b) * B + (600+c) * C\n",
    "\n",
    "    # Define Constraints\n",
    "    model += 6 * A + 5 * B + 8 * C <= 60\n",
    "    model += 10.5 * A + 20 * B + 10 * C <= 150\n",
    "    model += A <= 8\n",
    "\n",
    "    # Solve Model\n",
    "    model.solve()\n",
    "    o = {'A':A.varValue,'B':B.varValue,'C':C.varValue,'Obj':value(model.objective)}\n",
    "    return(o)\n",
    "\n",
    "# Step 4\n",
    "output = []\n",
    "for i in range(100):\n",
    "    output.append(run_pulp_model())\n",
    "    \n",
    "df = pd.DataFrame(output)\n",
    "\n",
    "# Step 5\n",
    "print(df['A'].value_counts())\n",
    "print(df['B'].value_counts())\n",
    "print(df['C'].value_counts())"
   ]
  },
  {
   "cell_type": "markdown",
   "metadata": {},
   "source": [
    "# Example"
   ]
  },
  {
   "cell_type": "code",
   "execution_count": 35,
   "metadata": {},
   "outputs": [
    {
     "data": {
      "text/html": [
       "<div>\n",
       "<style scoped>\n",
       "    .dataframe tbody tr th:only-of-type {\n",
       "        vertical-align: middle;\n",
       "    }\n",
       "\n",
       "    .dataframe tbody tr th {\n",
       "        vertical-align: top;\n",
       "    }\n",
       "\n",
       "    .dataframe thead th {\n",
       "        text-align: right;\n",
       "    }\n",
       "</style>\n",
       "<table border=\"1\" class=\"dataframe\">\n",
       "  <thead>\n",
       "    <tr style=\"text-align: right;\">\n",
       "      <th></th>\n",
       "      <th>Brazil</th>\n",
       "      <th>Germany</th>\n",
       "      <th>India</th>\n",
       "      <th>Japan</th>\n",
       "      <th>Obj</th>\n",
       "      <th>USA</th>\n",
       "    </tr>\n",
       "  </thead>\n",
       "  <tbody>\n",
       "    <tr>\n",
       "      <th>0</th>\n",
       "      <td>1365.0</td>\n",
       "      <td>0.0</td>\n",
       "      <td>417.3</td>\n",
       "      <td>1500.0</td>\n",
       "      <td>5.149626</td>\n",
       "      <td>1500.0</td>\n",
       "    </tr>\n",
       "    <tr>\n",
       "      <th>1</th>\n",
       "      <td>1365.0</td>\n",
       "      <td>0.0</td>\n",
       "      <td>417.3</td>\n",
       "      <td>1500.0</td>\n",
       "      <td>-4913.068224</td>\n",
       "      <td>1500.0</td>\n",
       "    </tr>\n",
       "    <tr>\n",
       "      <th>2</th>\n",
       "      <td>1365.0</td>\n",
       "      <td>0.0</td>\n",
       "      <td>417.3</td>\n",
       "      <td>1500.0</td>\n",
       "      <td>-727.756276</td>\n",
       "      <td>1500.0</td>\n",
       "    </tr>\n",
       "    <tr>\n",
       "      <th>3</th>\n",
       "      <td>1365.0</td>\n",
       "      <td>0.0</td>\n",
       "      <td>417.3</td>\n",
       "      <td>1500.0</td>\n",
       "      <td>-2739.110978</td>\n",
       "      <td>1500.0</td>\n",
       "    </tr>\n",
       "    <tr>\n",
       "      <th>4</th>\n",
       "      <td>1365.0</td>\n",
       "      <td>0.0</td>\n",
       "      <td>417.3</td>\n",
       "      <td>1500.0</td>\n",
       "      <td>5081.433738</td>\n",
       "      <td>1500.0</td>\n",
       "    </tr>\n",
       "  </tbody>\n",
       "</table>\n",
       "</div>"
      ],
      "text/plain": [
       "   Brazil  Germany  India   Japan          Obj     USA\n",
       "0  1365.0      0.0  417.3  1500.0     5.149626  1500.0\n",
       "1  1365.0      0.0  417.3  1500.0 -4913.068224  1500.0\n",
       "2  1365.0      0.0  417.3  1500.0  -727.756276  1500.0\n",
       "3  1365.0      0.0  417.3  1500.0 -2739.110978  1500.0\n",
       "4  1365.0      0.0  417.3  1500.0  5081.433738  1500.0"
      ]
     },
     "execution_count": 35,
     "metadata": {},
     "output_type": "execute_result"
    }
   ],
   "source": [
    "atle = LpVariable('cb', lowBound=0, cat='Integer')\n",
    "atlm = LpVariable('mb', lowBound=0, cat='Integer')\n",
    "atls = LpVariable('sb', lowBound=0, cat='Integer')\n",
    "atlw = LpVariable('cp', lowBound=0, cat='Integer')\n",
    "ne = LpVariable('cb', lowBound=0, cat='Integer')\n",
    "nm = LpVariable('mb', lowBound=0, cat='Integer')\n",
    "ns = LpVariable('sb', lowBound=0, cat='Integer')\n",
    "nw = LpVariable('cp', lowBound=0, cat='Integer')\n",
    "\n",
    "costs = {('Atlanta', 'East'): 232,\n",
    " ('Atlanta', 'Midwest'): 230,\n",
    " ('Atlanta', 'South'): 212,\n",
    " ('Atlanta', 'West'): 280,\n",
    " ('New York', 'East'): 211,\n",
    " ('New York', 'Midwest'): 240,\n",
    " ('New York', 'South'): 232,\n",
    " ('New York', 'West'): 300}\n",
    "\n",
    "var_dict = {('Atlanta', 'East'): atle,\n",
    " ('Atlanta', 'Midwest'): atlm,\n",
    " ('Atlanta', 'South'): atls,\n",
    " ('Atlanta', 'West'): atlw,\n",
    " ('New York', 'East'): ne,\n",
    " ('New York', 'Midwest'): nm,\n",
    " ('New York', 'South'): ns,\n",
    " ('New York', 'West'): nw}\n",
    "# Build the lists and the demand dictionary\n",
    "warehouse = ['New York', 'Atlanta']\n",
    "customers = ['East', 'South', 'Midwest', 'West']\n",
    "regional_demand = [1800, 1200, 1100, 1000]\n",
    "demand = dict(zip(customers, regional_demand))\n",
    "\n",
    "def run_pulp_model1():\n",
    "    model = LpProblem(\"Minimize Transportation Costs\", LpMinimize)\n",
    "\n",
    "    key = [(w, c) for w in warehouse for c in customers]\n",
    "    var_dict = LpVariable.dicts('num_of_shipments', \n",
    "                            key, \n",
    "                            lowBound=0, cat='Integer')\n",
    "    \n",
    "    # Define Objective\n",
    "\n",
    "    model += lpSum([costs[(w, c)] * (var_dict[(w, c)] + normalvariate(0,5))\n",
    "                    for c in customers for w in warehouse])\n",
    "    model.solve()\n",
    "    o = {}\n",
    "    for i in loc:\n",
    "        o[i] = value(lpSum([x[(i,j)] for j in loc]))\n",
    "    o['Obj'] = value(model.objective)\n",
    "    return(o)\n",
    "\n",
    "output = []\n",
    "for i in range(100):\n",
    "    output.append(run_pulp_model1())\n",
    "df = pd.DataFrame(output)\n",
    "\n",
    "df.head()"
   ]
  },
  {
   "cell_type": "markdown",
   "metadata": {},
   "source": [
    "# Capacitated Plant Location P4"
   ]
  },
  {
   "cell_type": "code",
   "execution_count": 36,
   "metadata": {},
   "outputs": [
    {
     "name": "stdout",
     "output_type": "stream",
     "text": [
      "               Low_Cap  High_Cap\n",
      "Supply_Region                   \n",
      "USA               6500      9500\n",
      "Germany           4980      7270\n",
      "Japan             6230      9100\n",
      "Brazil            3230      4730\n",
      "India             2110      3080\n"
     ]
    }
   ],
   "source": [
    "d = {'Supply_Region':['USA', 'Germany', 'Japan', 'Brazil', 'India'], 'Dmd':[2719.6,84.1,1676.8,145.4,156.4]}\n",
    "v = {'Supply_Region':['USA', 'Germany', 'Japan', 'Brazil', 'India'],\n",
    "    'USA':[6,13,20,12,22],'Germany':[13,6,14,14,13],'Japan':[20,14,3,21,10], \n",
    "    'Brazil':[12,14,21,8,23], 'India':[17,13,9,21,8]}\n",
    "f = {'Supply_Region':['USA', 'Germany', 'Japan', 'Brazil', 'India'],\n",
    "    'Low_Cap':[6500,4980,6230,3230,2110], 'High_Cap':[9500,7270,9100,4730,3080]}\n",
    "p = {'Supply_Region':['USA', 'Germany', 'Japan', 'Brazil', 'India'],\n",
    "    'Low_Cap':[500,500,500,500,500], 'High_Cap':[1500,1500,1500,1500,1500]}\n",
    "\n",
    "demand = pd.DataFrame(data = d)\n",
    "demand = demand.set_index('Supply_Region')\n",
    "\n",
    "var_cost = pd.DataFrame(data = v)\n",
    "var_cost = var_cost.set_index('Supply_Region')\n",
    "\n",
    "fix_cost = pd.DataFrame(data = f)\n",
    "fix_cost = fix_cost.set_index('Supply_Region')\n",
    "\n",
    "cap = pd.DataFrame(data = p)\n",
    "cap = cap.set_index('Supply_Region')\n",
    "\n",
    "print(fix_cost)\n",
    "\n",
    "def pulp_model_(fix_cost, var_cost, demand,cap):\n",
    "    # Initialize, Define Decision Vars., and Objective Function\n",
    "    model = LpProblem(\"Capacitated Plant Location Model\", LpMinimize)\n",
    "    loc = ['USA', 'Germany', 'Japan', 'Brazil', 'India']\n",
    "    size = ['Low_Cap','High_Cap']\n",
    "    x = LpVariable.dicts(\"production\", [(i,j) for i in loc for j in loc],\n",
    "                         lowBound=0, upBound=None, cat='Continuous')\n",
    "    y = LpVariable.dicts(\"plant\", \n",
    "                         [(i,s) for s in size for i in loc], cat='Binary')\n",
    "    model += (lpSum([fix_cost.loc[i,s] * y[(i,s)] for s in size for i in loc])\n",
    "              + lpSum([(var_cost.loc[i,j]+normalvariate(0.5,0.5)) * x[(i,j)] for i in loc for j in loc]))\n",
    "\n",
    "    # Define the constraints\n",
    "    for j in loc:\n",
    "        rd = normalvariate(0, demand.loc[j,'Dmd']*.05)\n",
    "        model += lpSum([x[(i, j)] for i in loc]) == (demand.loc[j,'Dmd']+rd)\n",
    "    for i in loc:\n",
    "        model += lpSum([x[(i, j)] for j in loc]) <= lpSum([cap.loc[i,s] * y[i,s] \n",
    "                                                           for s in size])\n",
    "    model.solve()\n",
    "    o = {}\n",
    "    for i in loc:\n",
    "        o[i] = value(lpSum([x[(i,j)] for j in loc]))\n",
    "    o['Obj'] = value(model.objective)\n",
    "    return(o)\n",
    "\n",
    "output = []\n",
    "for i in range(100):\n",
    "    output.append(pulp_model_(fix_cost, var_cost, demand, cap))\n",
    "    \n",
    "df = pd.DataFrame(output)"
   ]
  },
  {
   "cell_type": "code",
   "execution_count": 37,
   "metadata": {},
   "outputs": [
    {
     "data": {
      "text/plain": [
       "<matplotlib.axes._subplots.AxesSubplot at 0x2154f4dc860>"
      ]
     },
     "execution_count": 37,
     "metadata": {},
     "output_type": "execute_result"
    }
   ],
   "source": [
    "import matplotlib.pyplot as plt\n",
    "df['India'].hist()"
   ]
  },
  {
   "cell_type": "code",
   "execution_count": 38,
   "metadata": {},
   "outputs": [
    {
     "data": {
      "image/png": "[encoded data removed]",
      "text/plain": [
       "<Figure size 432x288 with 1 Axes>"
      ]
     },
     "metadata": {
      "needs_background": "light"
     },
     "output_type": "display_data"
    }
   ],
   "source": [
    "plt.title('Histogram of Prod. At Germany Region')\n",
    "\n",
    "# Histogram of Germany production\n",
    "plt.hist(df['Germany'])\n",
    "plt.show()"
   ]
  },
  {
   "cell_type": "code",
   "execution_count": 39,
   "metadata": {},
   "outputs": [
    {
     "data": {
      "image/png": "[encoded data removed]",
      "text/plain": [
       "<Figure size 432x288 with 1 Axes>"
      ]
     },
     "metadata": {
      "needs_background": "light"
     },
     "output_type": "display_data"
    }
   ],
   "source": [
    "plt.title('Histogram of Prod. At USA Region')\n",
    "\n",
    "# Histogram of Germany production\n",
    "plt.hist(df['USA'])\n",
    "plt.show()"
   ]
  },
  {
   "cell_type": "code",
   "execution_count": 40,
   "metadata": {},
   "outputs": [
    {
     "data": {
      "image/png": "[encoded data removed]",
      "text/plain": [
       "<Figure size 432x288 with 1 Axes>"
      ]
     },
     "metadata": {
      "needs_background": "light"
     },
     "output_type": "display_data"
    }
   ],
   "source": [
    "plt.title('Histogram of Prod. At Japan Region')\n",
    "\n",
    "# Histogram of Germany production\n",
    "plt.hist(df['Japan'])\n",
    "plt.show()"
   ]
  }
 ],
 "metadata": {
  "kernelspec": {
   "display_name": "Python 3",
   "language": "python",
   "name": "python3"
  },
  "language_info": {
   "codemirror_mode": {
    "name": "ipython",
    "version": 3
   },
   "file_extension": ".py",
   "mimetype": "text/x-python",
   "name": "python",
   "nbconvert_exporter": "python",
   "pygments_lexer": "ipython3",
   "version": "3.7.3"
  }
 },
 "nbformat": 4,
 "nbformat_minor": 2
}
